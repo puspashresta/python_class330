{
 "cells": [
  {
   "cell_type": "code",
   "execution_count": 1,
   "metadata": {},
   "outputs": [],
   "source": [
    "class Python:\n",
    "    pass\n",
    "\n",
    "obj=Python()"
   ]
  },
  {
   "cell_type": "code",
   "execution_count": 2,
   "metadata": {},
   "outputs": [
    {
     "name": "stdout",
     "output_type": "stream",
     "text": [
      "Hello, its me Puspa\n"
     ]
    }
   ],
   "source": [
    "class Python:\n",
    "    print(\"Hello, its me Puspa\")\n",
    "\n",
    "obj=Python()"
   ]
  },
  {
   "cell_type": "code",
   "execution_count": 4,
   "metadata": {},
   "outputs": [
    {
     "name": "stdout",
     "output_type": "stream",
     "text": [
      "its me Puspa and Django class\n"
     ]
    }
   ],
   "source": [
    "class Python:\n",
    "    def hello(self):#self is essential as to acess the attribute of class\n",
    "        print('its me Puspa and Django class')\n",
    "\n",
    "obj=Python()\n",
    "obj.hello()"
   ]
  },
  {
   "cell_type": "code",
   "execution_count": 7,
   "metadata": {},
   "outputs": [
    {
     "name": "stdout",
     "output_type": "stream",
     "text": [
      "its me Puspa and Django class\n"
     ]
    }
   ],
   "source": [
    "class Python:\n",
    "    def hello(self,x):#self is essential as to acess the attribute of class And self is not considered as parameter\n",
    "        print(x)\n",
    "\n",
    "obj=Python()\n",
    "obj.hello('its me Puspa and Django class')"
   ]
  },
  {
   "cell_type": "code",
   "execution_count": 9,
   "metadata": {},
   "outputs": [
    {
     "name": "stdout",
     "output_type": "stream",
     "text": [
      "the volume is 24\n"
     ]
    }
   ],
   "source": [
    "class Python:\n",
    "    def volume(self,l,b,h):#self is essential as to acess the attribute of class And self is not considered as parameter\n",
    "        print(\"the volume is\",l*b*h)\n",
    "\n",
    "obj=Python()\n",
    "obj.volume(2,3,4)"
   ]
  },
  {
   "cell_type": "code",
   "execution_count": 10,
   "metadata": {},
   "outputs": [
    {
     "name": "stdout",
     "output_type": "stream",
     "text": [
      "the volume is 24\n",
      "the area is 25\n"
     ]
    }
   ],
   "source": [
    "class Python:\n",
    "    def volume(self,l,b,h):#self is essential as to acess the attribute of class And self is not considered as parameter\n",
    "        print(\"the volume is\",l*b*h)\n",
    "\n",
    "class Area:\n",
    "    def area(self,l,b):\n",
    "        print(\"the area is\",l*b)\n",
    "obj=Python()\n",
    "obj1=Area()\n",
    "obj.volume(2,3,4)\n",
    "obj1.area(5,5)"
   ]
  },
  {
   "cell_type": "code",
   "execution_count": 16,
   "metadata": {},
   "outputs": [
    {
     "name": "stdout",
     "output_type": "stream",
     "text": [
      "the volume is 24\n",
      "the area is 6\n"
     ]
    }
   ],
   "source": [
    "class Python:\n",
    "    def __init__(self,l,b,h):\n",
    "        self.l=l\n",
    "        self.h=h\n",
    "        self.b=b\n",
    "    def volume(self):#self is essential as to acess the attribute of class And self is not considered as parameter\n",
    "        print(\"the volume is\",self.l*self.b*self.h)\n",
    "\n",
    "    def area(self):\n",
    "        print(\"the area is\",self.l*self.b)\n",
    "obj=Python(2,3,4)\n",
    "#obj1=Area()\n",
    "obj.volume()\n",
    "obj.area()"
   ]
  },
  {
   "cell_type": "code",
   "execution_count": 21,
   "metadata": {},
   "outputs": [
    {
     "name": "stdout",
     "output_type": "stream",
     "text": [
      "area= 6\n",
      "volume= 24\n",
      "2 3 4\n"
     ]
    }
   ],
   "source": [
    "class cal:\n",
    "    def __init__(self,l,b,h):\n",
    "        self.l=l\n",
    "        self.b=b\n",
    "        self.h=h\n",
    "    def area(self):\n",
    "        print(\"area=\",self.l*self.b)\n",
    "    \n",
    "    def volume(self):\n",
    "        print(\"volume=\",self.l*self.b*self.h)\n",
    "    \n",
    "obj=cal(2,3,4)\n",
    "obj.area()\n",
    "obj.volume()\n",
    "print(obj.l,obj.b,obj.h)  # for accessing the attribute outside of class (obj.l,obj.b) is used    "
   ]
  },
  {
   "cell_type": "code",
   "execution_count": 24,
   "metadata": {},
   "outputs": [
    {
     "name": "stdout",
     "output_type": "stream",
     "text": [
      "Enter len=2\n",
      "Enter breadth=3\n",
      "Enter height= 4\n",
      "area= 6\n",
      "volume= 24\n",
      "2 3 4\n"
     ]
    }
   ],
   "source": [
    "class cal:\n",
    "    def __init__(self,l,b,h):\n",
    "        self.l=int(input(\"Enter len=\"))\n",
    "        self.b=int(input(\"Enter breadth=\"))\n",
    "        self.h=int(input(\"Enter height= \"))\n",
    "    def area(self):\n",
    "        print(\"area=\",self.l*self.b)\n",
    "    \n",
    "    def volume(self):\n",
    "        print(\"volume=\",self.l*self.b*self.h)\n",
    "    \n",
    "obj=cal(2,3,4)\n",
    "obj.area()\n",
    "obj.volume()\n",
    "print(obj.l,obj.b,obj.h)  "
   ]
  },
  {
   "cell_type": "code",
   "execution_count": 3,
   "metadata": {},
   "outputs": [
    {
     "data": {
      "text/plain": [
       "\"it's me Aalok from ktm and about 8 years old\""
      ]
     },
     "execution_count": 3,
     "metadata": {},
     "output_type": "execute_result"
    }
   ],
   "source": [
    "# __str__() : used for string representation to show output\n",
    "\n",
    "class Point:\n",
    "    def __init__(self,name,age,add):\n",
    "        self.name=name\n",
    "        self.age=age\n",
    "        self.add=add\n",
    "    def __str__(self):\n",
    "        return f\"it's me {self.name} from {self.add} and about {self.age} years old\"\n",
    "    \n",
    "p1=Point(\"Aalok\",8,'ktm')\n",
    "p1.__str__()"
   ]
  },
  {
   "cell_type": "code",
   "execution_count": 8,
   "metadata": {},
   "outputs": [
    {
     "data": {
      "text/plain": [
       "{'len': 'Aalok', 'bre': 8}"
      ]
     },
     "execution_count": 8,
     "metadata": {},
     "output_type": "execute_result"
    }
   ],
   "source": [
    "class Point:\n",
    "    def __init__(self,l,b,h):\n",
    "        self.l=l\n",
    "        self.b=b\n",
    "        self.h=h\n",
    "#     def __str__(self):\n",
    "#         return f\"it's me {self.name} from {self.add} and about {self.age} years old\"\n",
    "    def __repr__(self):\n",
    "        #return [self.l,self.b,self.h] return runs one at a time\n",
    "        return {\"len\":self.l,\"bre\":self.b}\n",
    "        \n",
    "\n",
    "p1=Point(\"Aalok\",8,'ktm')\n",
    "p1.__str__()"
   ]
  },
  {
   "cell_type": "code",
   "execution_count": 13,
   "metadata": {},
   "outputs": [
    {
     "name": "stdout",
     "output_type": "stream",
     "text": [
      "total price= 900\n"
     ]
    }
   ],
   "source": [
    "#function to calculate the added product to cart in online shop\n",
    "#but function may not be applicable in recursive action as no of item may increases by customer so operator overloading is best\n",
    "\n",
    "class  Shop:\n",
    "    def __init__(self,x,y,z):\n",
    "        self.x=x\n",
    "        self.y=y\n",
    "        self.z=z\n",
    "        \n",
    "    def cal(self):\n",
    "        print(\"total price=\",self.x+self.y+self.z)\n",
    "    \n",
    "s1=Shop(200,300,400)\n",
    "s1.cal()"
   ]
  },
  {
   "cell_type": "code",
   "execution_count": 18,
   "metadata": {},
   "outputs": [
    {
     "name": "stdout",
     "output_type": "stream",
     "text": [
      "100\n",
      "200\n",
      "300\n",
      "400\n",
      "300\n",
      "300\n",
      "600\n",
      "600\n",
      "1000\n",
      "1000\n",
      "Total_price= (total price=1000)\n"
     ]
    }
   ],
   "source": [
    "class Shop1:\n",
    "    def __init__(self,x=0):\n",
    "        self.x=x\n",
    "        print(x)\n",
    "    \n",
    "    def __str__(self):\n",
    "        return f\"(total price={self.x})\"\n",
    "    \n",
    "    def __add__(self,other):\n",
    "        self.x=self.x+other.x\n",
    "        print(self.x)\n",
    "        return Shop1(self.x)\n",
    "s2=Shop1(100)\n",
    "s3=Shop1(200)\n",
    "s4=Shop1(300)\n",
    "s5=Shop1(400)\n",
    "print(\"Total_price=\",s2+s3+s4+s5)"
   ]
  },
  {
   "cell_type": "code",
   "execution_count": null,
   "metadata": {},
   "outputs": [],
   "source": [
    "\n"
   ]
  },
  {
   "cell_type": "code",
   "execution_count": 6,
   "metadata": {},
   "outputs": [
    {
     "name": "stdout",
     "output_type": "stream",
     "text": [
      "Ram Ktm\n",
      "Ktm\n",
      "hi i am Ram from Ktm\n"
     ]
    }
   ],
   "source": [
    "#Day 09 INHERITANCE\n",
    "\n",
    "class Info:\n",
    "    def __init__(self,name):\n",
    "        self.name=name\n",
    "    def info(self):\n",
    "        print(self.name,self.add)\n",
    "    \n",
    "class Infos(Info):\n",
    "    def __init__(self,name,add):\n",
    "        self.add=add\n",
    "        Info.__init__(self,name)\n",
    "    def infos(self):\n",
    "        print(self.add)\n",
    "obj=Infos(\"Ram\",\"Ktm\")\n",
    "obj.info()\n",
    "obj.infos()\n",
    "print(f\"hi i am {obj.name} from {obj.add}\")"
   ]
  },
  {
   "cell_type": "code",
   "execution_count": 12,
   "metadata": {},
   "outputs": [
    {
     "name": "stdout",
     "output_type": "stream",
     "text": [
      "Ram Ktm\n",
      "Ktm Ram 20\n",
      "i am Ram from Ktm of 30 years old\n"
     ]
    }
   ],
   "source": [
    "class Info:\n",
    "    def __init__(self,name):\n",
    "        self.name=name\n",
    "    def info(self):\n",
    "        print(self.name,self.add)\n",
    "    \n",
    "class Infos(Info):\n",
    "    def __init__(self,name,add):\n",
    "        self.add=add\n",
    "        Info.__init__(self,name)\n",
    "    def infos(self,age):\n",
    "        print(self.add,self.name,age)\n",
    "    def full_info(self,age):\n",
    "        print(f\"i am {self.name} from {self.add} of {age} years old\")\n",
    "obj=Infos(\"Ram\",\"Ktm\")\n",
    "obj.info()\n",
    "obj.infos(20)\n",
    "obj.full_info(30)\n",
    "#print(f\"hi i am {obj.name} from {obj.add}\")#class bahira print garda object use garney class bhitr print garda self.name usehunx"
   ]
  },
  {
   "cell_type": "code",
   "execution_count": 17,
   "metadata": {},
   "outputs": [
    {
     "name": "stdout",
     "output_type": "stream",
     "text": [
      "Ram Ktm\n",
      "Ktm\n",
      "i am Ram from Ktm of 22 years old. my cell no is 9840123730\n"
     ]
    }
   ],
   "source": [
    "class Info:\n",
    "    def __init__(self,name):\n",
    "        self.name=name\n",
    "    def info(self):\n",
    "        print(self.name,self.add)\n",
    "        \n",
    "    def phone(self):\n",
    "        return 9840123730\n",
    "    \n",
    "class Infos(Info):\n",
    "    def __init__(self,name,add):\n",
    "        self.add=add\n",
    "        Info.__init__(self,name)\n",
    "    def infos(self):\n",
    "        print(self.add)\n",
    "    def full_info(self,age):\n",
    "        print(f\"i am {self.name} from {self.add} of {age} years old. my cell no is {super().phone()}\")  \n",
    "    #returning phone number in child class using super()\n",
    "obj=Infos(\"Ram\",\"Ktm\")\n",
    "obj.info()\n",
    "obj.infos()\n",
    "obj.full_info(22)\n",
    "#print(f\"hi i am {obj.name} from {obj.add}\")"
   ]
  },
  {
   "cell_type": "code",
   "execution_count": 23,
   "metadata": {},
   "outputs": [
    {
     "name": "stdout",
     "output_type": "stream",
     "text": [
      "Ram Ktm\n",
      "Ktm\n",
      "Nepal\n",
      "USA\n",
      "i am Ram from Ktm of 22 years old. my cell no is 9840123730\n"
     ]
    }
   ],
   "source": [
    "class Info:\n",
    "    def __init__(self,name):\n",
    "        self.name=name\n",
    "    def info(self):\n",
    "        print(self.name,self.add)\n",
    "        \n",
    "    def phone(self):\n",
    "        return 9840123730\n",
    "    def country(self,country):\n",
    "        print(country)\n",
    "class Infos(Info):\n",
    "    def __init__(self,name,add):\n",
    "        self.add=add\n",
    "        Info.__init__(self,name)\n",
    "    def infos(self):\n",
    "        print(self.add)\n",
    "    def full_info(self,age):\n",
    "        print(f\"i am {self.name} from {self.add} of {age} years old. my cell no is {super().phone()}\")  \n",
    "    #returning phone number in child class using super()\n",
    "    def calling_function(self,c):\n",
    "        super().country(c)\n",
    "obj=Infos(\"Ram\",\"Ktm\")\n",
    "obj.info()\n",
    "obj.infos()\n",
    "obj.country(\"Nepal\")\n",
    "obj.calling_function(\"USA\")#parent class ko country methodmaa arguments vayekoley arguments pathauma parxa natra error aauxa\n",
    "obj.full_info(22)"
   ]
  },
  {
   "cell_type": "code",
   "execution_count": 1,
   "metadata": {},
   "outputs": [
    {
     "name": "stdout",
     "output_type": "stream",
     "text": [
      "Ram 22\n"
     ]
    }
   ],
   "source": [
    "#Day 10\n",
    "#public private protected\n",
    "\n",
    "class Info:\n",
    "    def __init__(self,name,age):\n",
    "        self.name=name\n",
    "        self.age=age\n",
    "    def show(self):\n",
    "        print(self.name,self.age)\n",
    "        \n",
    "obj=Info(\"Ram\",22)\n",
    "obj.show()"
   ]
  },
  {
   "cell_type": "code",
   "execution_count": 5,
   "metadata": {},
   "outputs": [
    {
     "name": "stdout",
     "output_type": "stream",
     "text": [
      "Ram 22\n",
      "Ram\n"
     ]
    }
   ],
   "source": [
    "#protected \n",
    "class Info:\n",
    "    def __init__(self,name,age):\n",
    "        self._name=name\n",
    "        self._age=age\n",
    "    def show(self):\n",
    "        print(self._name,self._age)\n",
    "        \n",
    "obj=Info(\"Ram\",22)\n",
    "obj.show()\n",
    "print(obj._name)"
   ]
  },
  {
   "cell_type": "code",
   "execution_count": 1,
   "metadata": {},
   "outputs": [
    {
     "name": "stdout",
     "output_type": "stream",
     "text": [
      "Ram 22\n"
     ]
    }
   ],
   "source": [
    "#private\n",
    "class Info:\n",
    "    def __init__(self,name,age):\n",
    "        self.__name=name\n",
    "        self.__age=age\n",
    "    def show(self):\n",
    "        print(self.__name,self.__age)\n",
    "        \n",
    "obj=Info(\"Ram\",22)\n",
    "obj.show()\n",
    "#print(obj._name)"
   ]
  },
  {
   "cell_type": "code",
   "execution_count": 6,
   "metadata": {},
   "outputs": [
    {
     "name": "stdout",
     "output_type": "stream",
     "text": [
      "Ram\n"
     ]
    }
   ],
   "source": [
    "#name membling trick to access private data\n",
    "\n",
    "print(obj._Info__name)"
   ]
  },
  {
   "cell_type": "code",
   "execution_count": 7,
   "metadata": {},
   "outputs": [
    {
     "name": "stdout",
     "output_type": "stream",
     "text": [
      "Ram 22\n",
      "its me Ram from ktm\n",
      "its me Ram. from ktm\n"
     ]
    }
   ],
   "source": [
    "class Info:\n",
    "    def __init__(self,name,age):\n",
    "        self._name=name #protected\n",
    "        self._age=age\n",
    "    def show(self):\n",
    "        print(self._name,self._age)\n",
    "\n",
    "class Infos(Info):\n",
    "    def __init__(self,name,age,add):\n",
    "        self.__add=add #private\n",
    "        Info.__init__(self,name,age)\n",
    "    def infos(self):\n",
    "        print(f\"its me {obj._name} from {obj.__add}\")\n",
    "        \n",
    "obj=Infos(\"Ram\",22,\"ktm\")\n",
    "obj.show()\n",
    "obj.infos()\n",
    "#accesing address private attribute from out of class using name membling trick\n",
    "print(f\"its me {obj._name}. from {obj._Infos__add}\")"
   ]
  },
  {
   "cell_type": "code",
   "execution_count": 13,
   "metadata": {},
   "outputs": [
    {
     "name": "stdout",
     "output_type": "stream",
     "text": [
      "('Ram', 22)\n",
      "its me Ram from ktm\n"
     ]
    }
   ],
   "source": [
    "#using super()\n",
    "class Info:\n",
    "    def __init__(self,name,age):\n",
    "        self.__name=name #protected\n",
    "        self._age=age\n",
    "    def show(self):\n",
    "        return self.__name,self._age\n",
    "\n",
    "class Infos(Info):\n",
    "    def __init__(self,name,age,add):\n",
    "        self.__add=add #private\n",
    "        Info.__init__(self,name,age)\n",
    "    def infos(self):\n",
    "        print(f\"its me {obj._Info__name} from {obj.__add}\")\n",
    "    \n",
    "    def myname(self):\n",
    "        print(super().show())\n",
    "obj=Infos(\"Ram\",22,\"ktm\")\n",
    "obj.myname()\n",
    "obj.infos()\n",
    "#accesing address private attribute from out of class using name membling trick\n",
    "#print(f\"its me {obj._name}. from {obj._Infos__add}\")"
   ]
  },
  {
   "cell_type": "code",
   "execution_count": 21,
   "metadata": {},
   "outputs": [
    {
     "name": "stdout",
     "output_type": "stream",
     "text": [
      "its me Ram from ktm\n",
      "Ram\n"
     ]
    }
   ],
   "source": [
    "#by making private attribute into global attribute\n",
    "\n",
    "class Info:\n",
    "    def __init__(self,name):\n",
    "        self.__name=name #private\n",
    "        global names\n",
    "        names=self.__name\n",
    "#     def show(self):\n",
    "#         print(self._name,self._age)\n",
    "\n",
    "class Infos(Info):\n",
    "    def __init__(self,name,add):\n",
    "        self.__add=add #private\n",
    "        Info.__init__(self,name)\n",
    "    def infos(self):\n",
    "        print(f\"its me {names} from {obj.__add}\") #no need to convert in protected as its in global variable\n",
    "        \n",
    "    def myname(self):\n",
    "        print(names)\n",
    "obj=Infos(\"Ram\",\"ktm\")\n",
    "obj.infos()\n",
    "obj.myname()\n",
    "#accesing address private attribute from out of class using name membling trick\n",
    "#print(f\"its me {obj._name}. from {obj._Infos__add}\")"
   ]
  },
  {
   "cell_type": "code",
   "execution_count": 27,
   "metadata": {},
   "outputs": [
    {
     "name": "stdout",
     "output_type": "stream",
     "text": [
      "its me Ram from ktm\n",
      "Ram 22\n",
      "i am Ram, from ktm, aged 22\n"
     ]
    }
   ],
   "source": [
    "class Info:\n",
    "    def __init__(self,name,age):\n",
    "        self.__name=name #private\n",
    "        self.__age=age\n",
    "        global names,ages\n",
    "        names=self.__name\n",
    "        ages=self.__age\n",
    "#     def show(self):\n",
    "#         print(self._name,self._age)\n",
    "\n",
    "class Infos(Info):\n",
    "    def __init__(self,name,age,add):\n",
    "        self.__add=add #private\n",
    "        Info.__init__(self,name,age)\n",
    "    def infos(self):\n",
    "        print(f\"its me {names} from {obj.__add}\") #no need to convert in protected as its in global variable\n",
    "        \n",
    "    def myname(self):\n",
    "        print(names,ages)\n",
    "obj=Infos(\"Ram\",22,\"ktm\")\n",
    "obj.infos()\n",
    "obj.myname()\n",
    "print(f\"i am {names}, from {obj._Infos__add}, aged {ages}\")"
   ]
  },
  {
   "cell_type": "code",
   "execution_count": null,
   "metadata": {},
   "outputs": [],
   "source": []
  }
 ],
 "metadata": {
  "kernelspec": {
   "display_name": "Python 3",
   "language": "python",
   "name": "python3"
  },
  "language_info": {
   "codemirror_mode": {
    "name": "ipython",
    "version": 3
   },
   "file_extension": ".py",
   "mimetype": "text/x-python",
   "name": "python",
   "nbconvert_exporter": "python",
   "pygments_lexer": "ipython3",
   "version": "3.7.4"
  }
 },
 "nbformat": 4,
 "nbformat_minor": 2
}
