{
 "cells": [
  {
   "cell_type": "code",
   "execution_count": 14,
   "metadata": {},
   "outputs": [
    {
     "name": "stdout",
     "output_type": "stream",
     "text": [
      "Enter value of n= 2\n"
     ]
    },
    {
     "data": {
      "text/plain": [
       "[['NICL', '26', '34', '1000', '338', '338000.00'],\n",
       " ['FOWAD', '11', '47', '100', '1320', '132000.00'],\n",
       " ['NABIL', '43', '19', '36', '710', '25560.00'],\n",
       " ['KMCDB', '5', '34', '10', '706', '7060.00'],\n",
       " ['SRBL', '57', '44', '2000', '235', '470000.00'],\n",
       " ['SRBL', '57', '56', '771', '235', '181185.00'],\n",
       " ['SRBL', '57', '45', '1000', '235', '235000.00'],\n",
       " ['KMCDB', '5', '45', '10', '706', '7060.00'],\n",
       " ['FMDBL', '1', '7', '100', '423', '42300.00'],\n",
       " ['NICA', '39', '42', '286', '496', '141856.00'],\n",
       " ['FMDBL', '17', '22', '150', '426', '63900.00'],\n",
       " ['CZBIL', '16', '38', '20', '182', '3640.00'],\n",
       " ['SBL', '17', '3', '200', '291', '58200.00'],\n",
       " ['KBL', '8', '14', '1000', '182', '182000.00'],\n",
       " ['KBL', '43', '14', '100', '182', '18200.00'],\n",
       " ['SLICL', '45', '21', '95', '367', '34865.00'],\n",
       " ['BPCL', '45', '14', '300', '322', '96600.00'],\n",
       " ['BPCL', '45', '8', '200', '322', '64400.00'],\n",
       " ['ADBL', '57', '39', '100', '369', '36900.00'],\n",
       " ['ADBL', '57', '25', '1000', '370', '370000.00'],\n",
       " ['Contract No.\\xa0  |',\n",
       "  '',\n",
       "  '',\n",
       "  'Stock Symbol',\n",
       "  'ADBLAHPCAKBSLAKJCLAKPLALBSLALICLALICLPAMFIAMFIPOAPIAVUBARUNBBCBFCBFCPOBFLPOBHBLBHBLPOBNLBNTBOKD2079BOKLBOKLPOBPCLBSBLPOBSLBSMCBBLCBBLPOCBLCBLPOCCBLCCBLPOCEFLCEFLPOCFCLCFCLPOCFLCHCLCHLCHLBSCITCLBSLCMBCMBFLPCMF1CMF2CORBLCORBLPCZBILCZBILPDBBLDBBLPODDBLDDBLPODHPLEBLEBLCPEBLD2078EBLPOEDBLEDBLPOEICEICPOFBBLPOFHLFMDBLFMDBLPFOWADGBBLGBBLPOGBILD80/81GBIMEGBIMEPGBLBSGBLBSPGDBLGDBLPOGFCLGFCLPOGGBSLGHLGILBGILBPOGIMES1GLBSLGLICLGLICLPGMFBSGMFILGMFILPGRDBLGRDBLPGRUGUFLGUFLPOHAMROHAMROPHATHHATHPOHBLHBLPOHBTHDHPCHDLHFLHGIHGIPOHIDCLHPPLHURJAICFCICFCPOIGIIGIPOILBSILFCMPJBBLJBBLPOJBNLJBNLPOJEFLJEFLPOJFLJFLPOJOSHIJSLBBJSLBBPJSMKADBLKADBLPKBBLKBBLPOKBLKBLPOKEBLKEBLPOKKHCKMCDBKMCDBPKMFLKMFLPOKNBLKNBLPOKPCLKRBLKRBLPOKSBBLKSBBLPLBBLLBBLPOLBLLBLPOLEMFLFCLFCPOLGILLGILPOLICNLICNPOLLBSLLBSPOLVF1MBLMBLPOMDBMDBLPOMDBPOMEGAMEGAPOMEROMEROPOMFILMFILPOMHNLMLBBLMLBBLPMLBLMLBLPOMMFDBMMFDBPMNBBLMNBBLPMPFLMPFLPOMSLBMSMBSMSMBSPNABBCNABILNABILPNADEPNADEPPNAGRONBBNBBLNBBLPONBBPONBBUNBF2NBLNCCBNCCBPONCDBNCDBPONEFNFDNFSNFSPONGPLNHDLNHPCNIBNIBLPFNIBPONIBSF1NICANICAD 85/86NICAD8283NICAPNICBFNICD83/84NICGFNICLNICLPONIDCNIDCPONILNILPONKUNLBBLNLBBLPNLGNLGPONLICNLICLNLICLPNLICPNLONMBNMB50NMBD2085NMBHF1NMBMFNMBMFPNMBPONMFBSNMFBSPNNLBNNLBPONSEWANSEWAPNSMNSMPONTCNTLNUBLNUBLPONVGNWCODBLODBLPOOHLPBLD86PCBLPCBLPPDBLPOPFLPFLPOPICPICLPICLPOPICPOPLICPLICPOPMHPLPPCLPRFLPOPRINPRINPOPROFLPROFLPPRVUPRVUPOPSDBLPPURBLPURBLPRADHIRBCLRBCLPORHPCRHPLRJMRLFLRLFLPORMBFPORMDCRMDCPORRHPRSDCRSDCPSABSLSADBLSADBLPSAEFSAND2085SANIMASAPDBLSBBLJSBBLJPSBBLPOSBISBIPOSBLSBLD2082SBLD83SBLPOSBPPSCBSCBPOSDESISEFSEOSSFCSFCLSFCLPSFCPOSFFILSFFILPSFMFSHBLSHBLPOSHINESHINEPSHIVMSHLSHPCSICSICLSICLPOSICPOSIFCSIFCPOSIGS2SILSILPOSINDUSINDUPSJCLSKBBLSKBBLPSLBBLSLBBLPSLBSSLBSLSLICLSLICLPSMATASMATAPSMBSMBPOSMFBSSMFDBSMFDBPSPARSSPDLSRBLSRBLD83SRBLPOSRD80SRSSTCSWBBLSWBBLPSYFLSYFLPOTMDBLTMDBLPTRHTRHPRUFLUFLPOUICUICPOUMBUMBPOUMHLUNHPLUNLUPCLUPPERVLBSVLBSPOWDBLWDBLPOWOMIWOMIPOYHL  |',\n",
       "  '                ',\n",
       "  'Buyer\\xa0  |',\n",
       "  'Seller\\xa0  |',\n",
       "  'Total Rows',\n",
       "  '                    ',\n",
       "  '20',\n",
       "  '50',\n",
       "  '200',\n",
       "  '300',\n",
       "  '500',\n",
       "  ' |',\n",
       "  '                ',\n",
       "  '',\n",
       "  '',\n",
       "  '',\n",
       "  ''],\n",
       " ['Stock Symbol',\n",
       "  'Buyer Broker',\n",
       "  'Seller Broker',\n",
       "  'Quantity',\n",
       "  'Rate',\n",
       "  'Amount'],\n",
       " ['NICL', '26', '34', '1000', '338', '338000.00'],\n",
       " ['FOWAD', '11', '47', '100', '1320', '132000.00'],\n",
       " ['NABIL', '43', '19', '36', '710', '25560.00'],\n",
       " ['KMCDB', '5', '34', '10', '706', '7060.00'],\n",
       " ['SRBL', '57', '44', '2000', '235', '470000.00'],\n",
       " ['SRBL', '57', '56', '771', '235', '181185.00'],\n",
       " ['SRBL', '57', '45', '1000', '235', '235000.00'],\n",
       " ['KMCDB', '5', '45', '10', '706', '7060.00'],\n",
       " ['FMDBL', '1', '7', '100', '423', '42300.00'],\n",
       " ['NICA', '39', '42', '286', '496', '141856.00'],\n",
       " ['FMDBL', '17', '22', '150', '426', '63900.00'],\n",
       " ['CZBIL', '16', '38', '20', '182', '3640.00'],\n",
       " ['SBL', '17', '3', '200', '291', '58200.00'],\n",
       " ['KBL', '8', '14', '1000', '182', '182000.00'],\n",
       " ['KBL', '43', '14', '100', '182', '18200.00'],\n",
       " ['SLICL', '45', '21', '95', '367', '34865.00'],\n",
       " ['BPCL', '45', '14', '300', '322', '96600.00'],\n",
       " ['BPCL', '45', '8', '200', '322', '64400.00'],\n",
       " ['ADBL', '57', '39', '100', '369', '36900.00'],\n",
       " ['ADBL', '57', '25', '1000', '370', '370000.00']]"
      ]
     },
     "execution_count": 14,
     "metadata": {},
     "output_type": "execute_result"
    }
   ],
   "source": [
    "from bs4 import BeautifulSoup\n",
    "import requests \n",
    "n=int(input(\"Enter value of n= \"))\n",
    "y=[]\n",
    "for i in range(1,n+1):\n",
    "    url = BeautifulSoup(f\"http://www.nepalstock.com/main/floorsheet/index/{n}/\",'html.parser')\n",
    "    response=requests.get(url)\n",
    "    data=response.text\n",
    "    soup=BeautifulSoup(data,'lxml')\n",
    "    tags=soup.table\n",
    "    tag=tags.find_all('tr')\n",
    "    \n",
    "    x=[]\n",
    "    for t in tag:\n",
    "        x.append(t.get_text())\n",
    "    \n",
    "    for l in x:\n",
    "        list1=l.split('\\n')\n",
    "        list2=list1[3:len(list1)-1]\n",
    "        y.append(list2)\n",
    "    y=y[1:-3]\n",
    "y\n",
    "        \n"
   ]
  },
  {
   "cell_type": "code",
   "execution_count": null,
   "metadata": {},
   "outputs": [],
   "source": []
  }
 ],
 "metadata": {
  "kernelspec": {
   "display_name": "Python 3",
   "language": "python",
   "name": "python3"
  },
  "language_info": {
   "codemirror_mode": {
    "name": "ipython",
    "version": 3
   },
   "file_extension": ".py",
   "mimetype": "text/x-python",
   "name": "python",
   "nbconvert_exporter": "python",
   "pygments_lexer": "ipython3",
   "version": "3.7.4"
  }
 },
 "nbformat": 4,
 "nbformat_minor": 2
}
