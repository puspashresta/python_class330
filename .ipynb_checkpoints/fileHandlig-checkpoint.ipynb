{
 "cells": [
  {
   "cell_type": "code",
   "execution_count": 1,
   "metadata": {},
   "outputs": [],
   "source": [
    "#file handling\n",
    "#open(<filename><mode>)"
   ]
  },
  {
   "cell_type": "code",
   "execution_count": 2,
   "metadata": {},
   "outputs": [],
   "source": [
    "b=open(\"file1230.txt\",'x')\n",
    "b.close()"
   ]
  },
  {
   "cell_type": "code",
   "execution_count": 3,
   "metadata": {},
   "outputs": [
    {
     "name": "stdout",
     "output_type": "stream",
     "text": [
      "1.hello sworld\n",
      "2.hello sworld\n",
      "3.hello sworld\n",
      "4.hello sworld\n",
      "5.hello sworld\n",
      "6.hello sworld\n",
      "7.hello sworld\n"
     ]
    }
   ],
   "source": [
    "b=open(\"file1230.txt\",'r')\n",
    "print(b.read())\n",
    "b.close()"
   ]
  },
  {
   "cell_type": "code",
   "execution_count": 6,
   "metadata": {},
   "outputs": [
    {
     "name": "stdout",
     "output_type": "stream",
     "text": [
      "1.hello sworl\n"
     ]
    }
   ],
   "source": [
    "b=open(\"file1230.txt\",'r')\n",
    "print(b.read(13))\n",
    "b.close()"
   ]
  },
  {
   "cell_type": "code",
   "execution_count": 7,
   "metadata": {},
   "outputs": [
    {
     "name": "stdout",
     "output_type": "stream",
     "text": [
      "<class 'str'>\n"
     ]
    }
   ],
   "source": [
    "b=open(\"file1230.txt\",'r')\n",
    "print(type(b.read()))\n",
    "b.close()"
   ]
  },
  {
   "cell_type": "code",
   "execution_count": 12,
   "metadata": {},
   "outputs": [
    {
     "name": "stdout",
     "output_type": "stream",
     "text": [
      "1.hello sworld\n",
      "\n",
      "2.hello sworld\n",
      "\n",
      "3.hello sworld\n",
      "\n"
     ]
    }
   ],
   "source": [
    "b=open(\"file1230.txt\",'r')\n",
    "print(b.readline())\n",
    "print(b.readline())\n",
    "\n",
    "b.close()"
   ]
  },
  {
   "cell_type": "markdown",
   "metadata": {},
   "source": [
    "b=open(\"file1230.txt\",'a')\n",
    "b.write(\"7.WE are Pythian\")\n",
    "b.close()\n",
    "b=open(\"file1230.txt\",'r')\n",
    "print(b.read())"
   ]
  },
  {
   "cell_type": "code",
   "execution_count": 17,
   "metadata": {},
   "outputs": [
    {
     "name": "stdout",
     "output_type": "stream",
     "text": [
      "1.hello sworld\n",
      "2.hello sworld\n",
      "3.hello sworld\n",
      "4.hello sworld\n",
      "5.hello sworld\n",
      "6.hello sworld\n",
      "7.hello sworld7.Iam Puspa7.Iam Puspa  7.Iam Puspa\n"
     ]
    }
   ],
   "source": [
    "b=open(\"file1230.txt\",'a')\n",
    "b.write(\"  7.Iam Puspa\")\n",
    "b.close()\n",
    "b=open(\"file1230.txt\",'r')\n",
    "print(b.read())\n",
    "b.close()"
   ]
  },
  {
   "cell_type": "code",
   "execution_count": null,
   "metadata": {},
   "outputs": [],
   "source": [
    "b=open(\"file1230.txt\",'a')\n",
    "c=b.write(\" 7.Iam Puspa\")\n",
    "d=c.replace(\"hello\",\"hi\")\n",
    "print(d)\n",
    "b.close()\n",
    "b=open(\"file1230.txt\",'r')\n",
    "print(b.read())\n",
    "b.close()"
   ]
  }
 ],
 "metadata": {
  "kernelspec": {
   "display_name": "Python 3",
   "language": "python",
   "name": "python3"
  },
  "language_info": {
   "codemirror_mode": {
    "name": "ipython",
    "version": 3
   },
   "file_extension": ".py",
   "mimetype": "text/x-python",
   "name": "python",
   "nbconvert_exporter": "python",
   "pygments_lexer": "ipython3",
   "version": "3.7.4"
  }
 },
 "nbformat": 4,
 "nbformat_minor": 2
}
