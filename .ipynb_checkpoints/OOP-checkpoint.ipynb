{
 "cells": [
  {
   "cell_type": "code",
   "execution_count": 1,
   "metadata": {},
   "outputs": [],
   "source": [
    "# class <name_of_class>:\n",
    "#     <operation>\n",
    "#     <methods>\n",
    "# object = <name_of_class>"
   ]
  },
  {
   "cell_type": "code",
   "execution_count": 2,
   "metadata": {},
   "outputs": [],
   "source": [
    "class info:\n",
    "    #value initialization\n",
    "    #methods\n",
    "    pass\n",
    "obj=info()"
   ]
  },
  {
   "cell_type": "code",
   "execution_count": 3,
   "metadata": {},
   "outputs": [
    {
     "name": "stdout",
     "output_type": "stream",
     "text": [
      "hello world\n"
     ]
    }
   ],
   "source": [
    "class info: #info\n",
    "    def infos(self):#method\n",
    "        print(\"hello world\")\n",
    "obj=info()#object\n",
    "obj.infos()#calling method"
   ]
  },
  {
   "cell_type": "code",
   "execution_count": 7,
   "metadata": {},
   "outputs": [
    {
     "name": "stdout",
     "output_type": "stream",
     "text": [
      "This is puspa\n",
      "its infoos function\n"
     ]
    }
   ],
   "source": [
    "class Info:#class\n",
    "    def info(self):#method\n",
    "        print(\"This is puspa\")\n",
    "    def infoss(self):\n",
    "        print(\"its infoos function\")\n",
    "obj=Info()\n",
    "obj.info()\n",
    "obj.infoss()"
   ]
  },
  {
   "cell_type": "code",
   "execution_count": 8,
   "metadata": {},
   "outputs": [
    {
     "name": "stdout",
     "output_type": "stream",
     "text": [
      "THe area is=  20\n",
      "the volume is= 210\n"
     ]
    }
   ],
   "source": [
    "class cal:\n",
    "    def area(self,l,b):\n",
    "        return l*b\n",
    "    def volume(self,l,b,h):\n",
    "        return l*b*h\n",
    "obj=cal()\n",
    "a=obj.area(4,5)\n",
    "v=obj.volume(5,6,7)\n",
    "print(\"THe area is= \",a)\n",
    "print(\"the volume is=\",v)\n",
    "    "
   ]
  },
  {
   "cell_type": "code",
   "execution_count": 9,
   "metadata": {},
   "outputs": [
    {
     "name": "stdout",
     "output_type": "stream",
     "text": [
      "the area is  20\n",
      "the volume is= 210\n"
     ]
    }
   ],
   "source": [
    "#class in class\n",
    "class cal:\n",
    "    def area(self,l,b):\n",
    "        print(\"the area is \",l*b)\n",
    "class cals:\n",
    "    def volume(self,l,b,h):\n",
    "        print(\"the volume is=\",l*b*h)\n",
    "obj1=cal()\n",
    "obj2=cals()\n",
    "obj1.area(4,5)\n",
    "obj2.volume(5,6,7)"
   ]
  },
  {
   "cell_type": "code",
   "execution_count": 11,
   "metadata": {},
   "outputs": [
    {
     "name": "stdout",
     "output_type": "stream",
     "text": [
      "the volume is  210\n"
     ]
    }
   ],
   "source": [
    "class Volume:\n",
    "    def __init__(self,l,b,h):\n",
    "        self.l=l\n",
    "        self.b=b\n",
    "        self.h=h\n",
    "    def volume(self):\n",
    "        print(\"the volume is \",self.l*self.b*self.h)\n",
    "obj=Volume(5,6,7)\n",
    "obj.volume()"
   ]
  },
  {
   "cell_type": "code",
   "execution_count": 13,
   "metadata": {},
   "outputs": [
    {
     "name": "stdout",
     "output_type": "stream",
     "text": [
      "hello i am ouspa.and i am 22. and i live in ktm\n",
      "ouspa\n",
      "22\n",
      "ktm\n"
     ]
    }
   ],
   "source": [
    "class Info:\n",
    "    def __init__(self,name,age,add):\n",
    "        self.name=name\n",
    "        self.age=age\n",
    "        self.add=add\n",
    "    def infos(self):\n",
    "        print(f\"hello i am {self.name}.and i am {self.age}. and i live in {self.add}\")\n",
    "obj=Info(\"ouspa\",\"22\",\"ktm\")\n",
    "obj.infos()\n",
    "print(obj.name)\n",
    "print(obj.age)\n",
    "print(obj.add)"
   ]
  },
  {
   "cell_type": "code",
   "execution_count": 19,
   "metadata": {},
   "outputs": [
    {
     "name": "stdout",
     "output_type": "stream",
     "text": [
      "hi i am ram.i am 23 years. i am from Bhaktapur\n",
      "ram\n",
      "23\n"
     ]
    }
   ],
   "source": [
    "class Info:\n",
    "    def __init__(self,name,age):\n",
    "        self.name=name\n",
    "        self.age=age\n",
    "    def infos(this,add):\n",
    "        print(f\"hi i am {this.name}.i am {this.age} years. i am from {add}\")\n",
    "obj=Info(\"ram\",23)\n",
    "obj.infos(\"Bhaktapur\")\n",
    "print(obj.name)\n",
    "print(obj.age)\n"
   ]
  },
  {
   "cell_type": "code",
   "execution_count": 20,
   "metadata": {},
   "outputs": [
    {
     "name": "stdout",
     "output_type": "stream",
     "text": [
      "Enter name=sudip\n",
      "enter age=16\n",
      "this is sudip. i am 16 years old. i am from kirtipur\n",
      "sudip\n",
      "16\n"
     ]
    }
   ],
   "source": [
    "class Infor:\n",
    "    def __init__(self):\n",
    "        self.name=input(\"Enter name=\")\n",
    "        self.age=int(input(\"enter age=\"))\n",
    "    def infos(this,add):\n",
    "        print(f\"this is {this.name}. i am {this. age} years old. i am from {add}\")\n",
    "obj=Infor()\n",
    "obj.infos(\"kirtipur\")\n",
    "\n",
    "print(obj.name)\n",
    "print(obj.age)"
   ]
  },
  {
   "cell_type": "code",
   "execution_count": 21,
   "metadata": {},
   "outputs": [
    {
     "name": "stdout",
     "output_type": "stream",
     "text": [
      "helo from Sam .of 23 years old .from kirtipur\n"
     ]
    }
   ],
   "source": [
    "class Info:\n",
    "    def __init__(self,x):\n",
    "        self.name,self.age=x\n",
    "    def infos(this,add):\n",
    "        print(f\"helo from {this.name} .of {this.age} years old .from {add}\")\n",
    "x=(\"Sam\",23)\n",
    "obj=Info(x)\n",
    "obj.infos(\"kirtipur\")"
   ]
  },
  {
   "cell_type": "code",
   "execution_count": 24,
   "metadata": {},
   "outputs": [
    {
     "name": "stdout",
     "output_type": "stream",
     "text": [
      "volume is= 300\n"
     ]
    }
   ],
   "source": [
    "class Area:\n",
    "    def __init__(self,l,b):\n",
    "        self.l=l\n",
    "        self.b=b\n",
    "    def area(self):\n",
    "        return self.l*self.b\n",
    "class height:\n",
    "    def __init__(self,h):\n",
    "        self.h=h\n",
    "        \n",
    "    def height(self):\n",
    "        return self.h\n",
    "area1=Area(4,5)\n",
    "h=height(15)\n",
    "a=area1.area()\n",
    "b=h.height()\n",
    "v=a*b\n",
    "print(\"volume is=\",v)\n"
   ]
  },
  {
   "cell_type": "code",
   "execution_count": 26,
   "metadata": {},
   "outputs": [
    {
     "name": "stdout",
     "output_type": "stream",
     "text": [
      "1000\n",
      "2000\n",
      "3000\n",
      "1000\n",
      "4000\n",
      "1000\n",
      "5000\n",
      "1000\n",
      "6000\n"
     ]
    }
   ],
   "source": [
    "#__str__\n",
    "class Point:\n",
    "    def __init__(self,y=0):\n",
    "        self.y=y\n",
    "    def __str__(self):\n",
    "        return f\"{self.y}\"\n",
    "    def __add__(self,other):\n",
    "        y=self.y+other.y\n",
    "        print(self.y)\n",
    "        print(other.y)\n",
    "        return Point(y)\n",
    "p1=Point(1000)\n",
    "p2=Point(2000)\n",
    "p3=Point(1000)\n",
    "p4=Point(1000)\n",
    "p5=Point(1000)\n",
    "x=p1+p2+p3+p4+p5\n",
    "print(x)"
   ]
  },
  {
   "cell_type": "code",
   "execution_count": 29,
   "metadata": {},
   "outputs": [
    {
     "name": "stdout",
     "output_type": "stream",
     "text": [
      "i am Sushma. and of 19 years old\n",
      "<class '__main__.info'>\n"
     ]
    }
   ],
   "source": [
    "#__str__method\n",
    "class info:\n",
    "    def __init__(self,name,age):\n",
    "        self.name=name\n",
    "        self.age=age\n",
    "    def __str__(self):\n",
    "        return f\"i am {self.name}. and of {self.age} years old\"\n",
    "obj=info(\"Sushma\",19)\n",
    "print(obj.__str__())\n",
    "print(type(obj))"
   ]
  },
  {
   "cell_type": "code",
   "execution_count": 30,
   "metadata": {},
   "outputs": [
    {
     "name": "stdout",
     "output_type": "stream",
     "text": [
      "{'name': 'Sudip', 'age': 17}\n"
     ]
    }
   ],
   "source": [
    "#repr method\n",
    "class Info:\n",
    "    def __init__(self,name,age):\n",
    "        self.name=name\n",
    "        self.age=age\n",
    "    def __repr__(self):\n",
    "        return {'name':self.name,'age':self.age}\n",
    "obj=Info(\"Sudip\",17)\n",
    "print(obj.__repr__())"
   ]
  },
  {
   "cell_type": "code",
   "execution_count": 3,
   "metadata": {},
   "outputs": [
    {
     "name": "stdout",
     "output_type": "stream",
     "text": [
      "(2, 5)\n"
     ]
    }
   ],
   "source": [
    "class Point:\n",
    "    def __init__(self,x,y):\n",
    "        self.x=x\n",
    "        self.y=y\n",
    "    def __str__(self):\n",
    "        return \"The value of added number is= \"\n",
    "    def __add__(self,other):\n",
    "        x=self.x+other.x\n",
    "        y=self.y+other.y\n",
    "        return (x,y)\n",
    "p1=Point(1,2)\n",
    "p2=Point(1,3)\n",
    "p=p1+p2\n",
    "print(p)"
   ]
  },
  {
   "cell_type": "code",
   "execution_count": null,
   "metadata": {},
   "outputs": [],
   "source": []
  }
 ],
 "metadata": {
  "kernelspec": {
   "display_name": "Python 3",
   "language": "python",
   "name": "python3"
  },
  "language_info": {
   "codemirror_mode": {
    "name": "ipython",
    "version": 3
   },
   "file_extension": ".py",
   "mimetype": "text/x-python",
   "name": "python",
   "nbconvert_exporter": "python",
   "pygments_lexer": "ipython3",
   "version": "3.7.4"
  }
 },
 "nbformat": 4,
 "nbformat_minor": 4
}
