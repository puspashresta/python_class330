{
 "cells": [
  {
   "cell_type": "code",
   "execution_count": 1,
   "metadata": {},
   "outputs": [
    {
     "data": {
      "text/plain": [
       "{'a': 'apple', 'b': 'ball', 'c': 'cat'}"
      ]
     },
     "execution_count": 1,
     "metadata": {},
     "output_type": "execute_result"
    }
   ],
   "source": [
    "a={}\n",
    "a['a']='apple'\n",
    "a['b']='ball'\n",
    "a['c']='cat'\n",
    "a"
   ]
  },
  {
   "cell_type": "code",
   "execution_count": 2,
   "metadata": {},
   "outputs": [
    {
     "data": {
      "text/plain": [
       "{'a': 'apple', 'b': 'ball', 'c': 'cat'}"
      ]
     },
     "execution_count": 2,
     "metadata": {},
     "output_type": "execute_result"
    }
   ],
   "source": [
    "#remove redundancy\n",
    "a={'a':'apple','b':'ball','c':'cat'}\n",
    "a['c']='cat'\n",
    "a"
   ]
  },
  {
   "cell_type": "code",
   "execution_count": 4,
   "metadata": {},
   "outputs": [
    {
     "name": "stdout",
     "output_type": "stream",
     "text": [
      "a\n",
      "b\n",
      "c\n"
     ]
    }
   ],
   "source": [
    "for i in a:\n",
    "    print(i)\n",
    "    "
   ]
  },
  {
   "cell_type": "code",
   "execution_count": 5,
   "metadata": {},
   "outputs": [
    {
     "name": "stdout",
     "output_type": "stream",
     "text": [
      "('a', 'apple')\n",
      "('b', 'ball')\n",
      "('c', 'cat')\n"
     ]
    }
   ],
   "source": [
    "for i in a.items():\n",
    "    print(i)"
   ]
  },
  {
   "cell_type": "code",
   "execution_count": null,
   "metadata": {},
   "outputs": [],
   "source": [
    "#dict\n",
    "#a={'<index'>:'<value>',<'index>':\"<value>\",......}"
   ]
  },
  {
   "cell_type": "code",
   "execution_count": 6,
   "metadata": {},
   "outputs": [
    {
     "data": {
      "text/plain": [
       "{'b': 'ball', 'c': 'cat'}"
      ]
     },
     "execution_count": 6,
     "metadata": {},
     "output_type": "execute_result"
    }
   ],
   "source": [
    "del a['a']\n",
    "a"
   ]
  },
  {
   "cell_type": "code",
   "execution_count": 7,
   "metadata": {},
   "outputs": [
    {
     "name": "stdout",
     "output_type": "stream",
     "text": [
      "{'b': 'ball', 'c': ''}\n",
      "apple\n"
     ]
    }
   ],
   "source": [
    "a={'a':'apple','b':'ball','c':''}\n",
    "b=a.pop('a')\n",
    "print(a)\n",
    "print(b)"
   ]
  },
  {
   "cell_type": "code",
   "execution_count": null,
   "metadata": {},
   "outputs": [],
   "source": [
    "#imp\n",
    "#clear()=clear all item\n",
    "#\n",
    "#"
   ]
  },
  {
   "cell_type": "code",
   "execution_count": 8,
   "metadata": {},
   "outputs": [
    {
     "data": {
      "text/plain": [
       "{}"
      ]
     },
     "execution_count": 8,
     "metadata": {},
     "output_type": "execute_result"
    }
   ],
   "source": [
    "a={'a':'apple','b':'ball','c':''}\n",
    "a.clear()\n",
    "a"
   ]
  },
  {
   "cell_type": "code",
   "execution_count": 9,
   "metadata": {},
   "outputs": [
    {
     "name": "stdout",
     "output_type": "stream",
     "text": [
      "Enter value of n= 4\n",
      "Emter name= ram\n",
      "Emter name= sam\n",
      "Emter name= hari\n",
      "Emter name= gopal\n",
      "{1: 'ram', 2: 'sam', 3: 'hari', 4: 'gopal'}\n"
     ]
    }
   ],
   "source": [
    "a={}\n",
    "n=int(input(\"Enter value of n= \"))\n",
    "for i in range(1,n+1):\n",
    "    #(1,n+1)=1 to n\n",
    "    name=input(\"Emter name= \")\n",
    "    a[i]=name\n",
    "print(a)"
   ]
  },
  {
   "cell_type": "code",
   "execution_count": 10,
   "metadata": {},
   "outputs": [
    {
     "name": "stdout",
     "output_type": "stream",
     "text": [
      "{'Name=': 'Aksh', 'Age': 'age', 'Address': 'kir'}\n"
     ]
    }
   ],
   "source": [
    "a={}\n",
    "name='Aksh'\n",
    "age=23\n",
    "add=\"kir\"\n",
    "a={\"Name=\":name,\"Age\":'age','Address':add}\n",
    "print(a)"
   ]
  },
  {
   "cell_type": "code",
   "execution_count": 12,
   "metadata": {},
   "outputs": [
    {
     "name": "stdout",
     "output_type": "stream",
     "text": [
      "Enter n=2\n",
      "Enter name= sd\n",
      "Enter age= 23\n",
      "Enter address= krm\n",
      "Enter name= sam\n",
      "Enter age= 52\n",
      "Enter address= kitm\n",
      "{'Name=': 'sam', 'Age': '52', 'Address': 'kitm'}\n"
     ]
    }
   ],
   "source": [
    "a={}\n",
    "n=int(input(\"Enter n=\"))\n",
    "for i in range(n):\n",
    "    name=input(\"Enter name= \")\n",
    "    age=input(\"Enter age= \")\n",
    "    add=input(\"Enter address= \")\n",
    "    a={\"Name=\":name,\"Age\":age,'Address':add}\n",
    "print(a)"
   ]
  },
  {
   "cell_type": "code",
   "execution_count": 13,
   "metadata": {},
   "outputs": [
    {
     "data": {
      "text/plain": [
       "{'a': 'Apple', 'b': 'Ball', 'c': 'cat'}"
      ]
     },
     "execution_count": 13,
     "metadata": {},
     "output_type": "execute_result"
    }
   ],
   "source": [
    "a={'a':'Apple','b':'Ball'}\n",
    "b={'c':'cat'}\n",
    "a.update(b)\n",
    "a"
   ]
  },
  {
   "cell_type": "code",
   "execution_count": 14,
   "metadata": {},
   "outputs": [
    {
     "data": {
      "text/plain": [
       "{'c': 'cat', 'a': 'Apple', 'b': 'Ball'}"
      ]
     },
     "execution_count": 14,
     "metadata": {},
     "output_type": "execute_result"
    }
   ],
   "source": [
    "a={'a':'Apple','b':'Ball'}\n",
    "b={'c':'cat'}\n",
    "b.update(a)\n",
    "b"
   ]
  },
  {
   "cell_type": "code",
   "execution_count": 15,
   "metadata": {},
   "outputs": [
    {
     "data": {
      "text/plain": [
       "{1: {'name': 'abc', 'age': '32'},\n",
       " 2: {'name': 'abc', 'age': '32'},\n",
       " 3: {'name': 'abc', 'age': '32'},\n",
       " 4: {'name': 'abc', 'age': '32'}}"
      ]
     },
     "execution_count": 15,
     "metadata": {},
     "output_type": "execute_result"
    }
   ],
   "source": [
    "#dict inside dict\n",
    "a={1:{'name':'abc','age':'32'},\n",
    "  2:{'name':'abc','age':'32'},\n",
    "  3:{'name':'abc','age':'32'},\n",
    "  4:{'name':'abc','age':'32'}}\n",
    "a"
   ]
  },
  {
   "cell_type": "code",
   "execution_count": 16,
   "metadata": {},
   "outputs": [
    {
     "name": "stdout",
     "output_type": "stream",
     "text": [
      "{1: {'name': 'abc', 'age': '32'}, 2: {'name': 'abc', 'age': '32'}, 3: {'name': 'abc', 'age': '32'}, 4: {'name': 'abc', 'age': '32'}}\n"
     ]
    }
   ],
   "source": [
    "a={1:{'name':'abc','age':'32'},\n",
    "  2:{'name':'abc','age':'32'},\n",
    "  3:{'name':'abc','age':'32'},\n",
    "  4:{'name':'abc','age':'32'}}\n",
    "print(a)"
   ]
  },
  {
   "cell_type": "code",
   "execution_count": 18,
   "metadata": {},
   "outputs": [
    {
     "name": "stdout",
     "output_type": "stream",
     "text": [
      "{1: {'name': 'abc', 'age': '32'}, 2: {'name': 'abc', 'age': '32'}, 3: {'name': 'abc', 'age': '32'}, 4: {'name': 'sf', 'age': '2'}}\n",
      "{'name': 'sf', 'age': '2'}\n"
     ]
    }
   ],
   "source": [
    "a={1:{'name':'abc','age':'32'},\n",
    "  2:{'name':'abc','age':'32'},\n",
    "  3:{'name':'abc','age':'32'},\n",
    "  4:{'name':'sf','age':'2'}}\n",
    "print(a)\n",
    "print(a[4])"
   ]
  },
  {
   "cell_type": "code",
   "execution_count": 19,
   "metadata": {},
   "outputs": [
    {
     "data": {
      "text/plain": [
       "{1: {'name': 'abc', 'age': '32'},\n",
       " 2: {'name': 'abc', 'age': '32'},\n",
       " 3: {'name': 'abc', 'age': '32'},\n",
       " 4: {'name': 'Sita', 'age': '36'}}"
      ]
     },
     "execution_count": 19,
     "metadata": {},
     "output_type": "execute_result"
    }
   ],
   "source": [
    "a={1:{'name':'abc','age':'32'},\n",
    "  2:{'name':'abc','age':'32'},\n",
    "  3:{'name':'abc','age':'32'}}\n",
    "a[4]={'name':'Sita','age':'36'}\n",
    "a"
   ]
  },
  {
   "cell_type": "code",
   "execution_count": 20,
   "metadata": {},
   "outputs": [
    {
     "data": {
      "text/plain": [
       "{1: {'name': 'abc', 'age': '32', 'add': 'Nepl'},\n",
       " 2: {'name': 'abc', 'age': '32'},\n",
       " 3: {'name': 'abc', 'age': '32'}}"
      ]
     },
     "execution_count": 20,
     "metadata": {},
     "output_type": "execute_result"
    }
   ],
   "source": [
    "#add a field in 1\n",
    "a={1:{'name':'abc','age':'32'},\n",
    "  2:{'name':'abc','age':'32'},\n",
    "  3:{'name':'abc','age':'32'}}\n",
    "a[1]['add']='Nepl'\n",
    "a"
   ]
  },
  {
   "cell_type": "code",
   "execution_count": 21,
   "metadata": {},
   "outputs": [
    {
     "data": {
      "text/plain": [
       "{1: {'name': 'abc', 'age': 22, 'add': 'Nepl'},\n",
       " 2: {'name': 'abc', 'age': '32'},\n",
       " 3: {'name': 'abc', 'age': '32'}}"
      ]
     },
     "execution_count": 21,
     "metadata": {},
     "output_type": "execute_result"
    }
   ],
   "source": [
    "#update\n",
    "a={1:{'name':'abc','age':'32'},\n",
    "  2:{'name':'abc','age':'32'},\n",
    "  3:{'name':'abc','age':'32'}}\n",
    "a[1]['add']='Nepl'\n",
    "a[1]['age']=22\n",
    "a"
   ]
  },
  {
   "cell_type": "code",
   "execution_count": 22,
   "metadata": {},
   "outputs": [
    {
     "name": "stdout",
     "output_type": "stream",
     "text": [
      "Enter no. of rows= 2\n",
      "Enter name= tam\n",
      "Enter age= 34\n",
      "Enter address= ktm\n",
      "Enter name= sam\n",
      "Enter age= 34\n",
      "Enter address= bkt\n",
      "{1: {'Name': 'tam', 'age': '34', 'address': 'ktm'}, 2: {'Name': 'sam', 'age': '34', 'address': 'bkt'}}\n"
     ]
    }
   ],
   "source": [
    "a={}\n",
    "n=int(input(\"Enter no. of rows= \"))\n",
    "for i in range(1,n+1):\n",
    "    name=input(\"Enter name= \")\n",
    "    age=input(\"Enter age= \")\n",
    "    add=input(\"Enter address= \")\n",
    "    a[i]={'Name':name,'age':age,'address':add}\n",
    "print(a)"
   ]
  },
  {
   "cell_type": "code",
   "execution_count": null,
   "metadata": {},
   "outputs": [],
   "source": []
  }
 ],
 "metadata": {
  "kernelspec": {
   "display_name": "Python 3",
   "language": "python",
   "name": "python3"
  },
  "language_info": {
   "codemirror_mode": {
    "name": "ipython",
    "version": 3
   },
   "file_extension": ".py",
   "mimetype": "text/x-python",
   "name": "python",
   "nbconvert_exporter": "python",
   "pygments_lexer": "ipython3",
   "version": "3.7.4"
  }
 },
 "nbformat": 4,
 "nbformat_minor": 2
}
