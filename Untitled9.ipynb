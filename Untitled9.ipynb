{
 "cells": [
  {
   "cell_type": "code",
   "execution_count": 1,
   "metadata": {},
   "outputs": [],
   "source": [
    "#file handling\n",
    "#open(<filename><mode>)"
   ]
  },
  {
   "cell_type": "code",
   "execution_count": 2,
   "metadata": {},
   "outputs": [],
   "source": [
    "b=open(\"file1230.txt\",'x')\n",
    "b.close()"
   ]
  },
  {
   "cell_type": "code",
   "execution_count": 3,
   "metadata": {},
   "outputs": [
    {
     "name": "stdout",
     "output_type": "stream",
     "text": [
      "1.hello sworld\n",
      "2.hello sworld\n",
      "3.hello sworld\n",
      "4.hello sworld\n",
      "5.hello sworld\n",
      "6.hello sworld\n",
      "7.hello sworld\n"
     ]
    }
   ],
   "source": [
    "b=open(\"file1230.txt\",'r')\n",
    "print(b.read())\n",
    "b.close()"
   ]
  },
  {
   "cell_type": "code",
   "execution_count": 6,
   "metadata": {},
   "outputs": [
    {
     "name": "stdout",
     "output_type": "stream",
     "text": [
      "1.hello sworl\n"
     ]
    }
   ],
   "source": [
    "b=open(\"file1230.txt\",'r')\n",
    "print(b.read(13))\n",
    "b.close()"
   ]
  },
  {
   "cell_type": "code",
   "execution_count": 7,
   "metadata": {},
   "outputs": [
    {
     "name": "stdout",
     "output_type": "stream",
     "text": [
      "<class 'str'>\n"
     ]
    }
   ],
   "source": [
    "b=open(\"file1230.txt\",'r')\n",
    "print(type(b.read()))\n",
    "b.close()"
   ]
  },
  {
   "cell_type": "code",
   "execution_count": 8,
   "metadata": {},
   "outputs": [
    {
     "name": "stdout",
     "output_type": "stream",
     "text": [
      "1.hello sworld\n",
      "\n"
     ]
    }
   ],
   "source": [
    "b=open(\"file1230.txt\",'r')\n",
    "print(b.readline())\n",
    "b.close()"
   ]
  },
  {
   "cell_type": "code",
   "execution_count": 1,
   "metadata": {},
   "outputs": [
    {
     "name": "stdout",
     "output_type": "stream",
     "text": [
      "enter n=5\n",
      "fact= 1\n",
      "fact= 2\n",
      "fact= 6\n",
      "fact= 24\n",
      "fact= 120\n"
     ]
    }
   ],
   "source": [
    "fact=1\n",
    "n=int(input(\"enter n=\"))\n",
    "for i in range(1,n+1):\n",
    "    fact=fact*i\n",
    "    print(\"fact=\",fact)"
   ]
  },
  {
   "cell_type": "code",
   "execution_count": 2,
   "metadata": {},
   "outputs": [
    {
     "name": "stdout",
     "output_type": "stream",
     "text": [
      "******\n",
      "*****\n",
      "****\n",
      "***\n",
      "**\n",
      "*\n"
     ]
    }
   ],
   "source": [
    "print(\"******\")\n",
    "print('*****')\n",
    "print('****')\n",
    "print('***')\n",
    "print('**')\n",
    "print('*')"
   ]
  },
  {
   "cell_type": "code",
   "execution_count": null,
   "metadata": {},
   "outputs": [],
   "source": [
    "\n"
   ]
  },
  {
   "cell_type": "code",
   "execution_count": 6,
   "metadata": {},
   "outputs": [
    {
     "name": "stdout",
     "output_type": "stream",
     "text": [
      "Select Operation: \n",
      "1.Add\n",
      "2.subtraction\n",
      "3.Multiplication\n",
      "4.Power\n",
      "5.Division\n",
      "enter your choice(1/2/3/4/5):3\n",
      "enter value of a= 3\n",
      "enter value of b= 4\n",
      "3 * 4 = 12\n"
     ]
    }
   ],
   "source": [
    "def add(x,y):\n",
    "    return x+y\n",
    "def sub(x,y):\n",
    "    return x-y\n",
    "def mul(x,y):\n",
    "    return x*y\n",
    "def power(x,y):\n",
    "    return pow(x,y)\n",
    "def div(x,y):\n",
    "    return x/y\n",
    "\n",
    "print(\"Select Operation: \")\n",
    "print(\"1.Add\")\n",
    "print(\"2.subtraction\")\n",
    "print(\"3.Multiplication\")\n",
    "print(\"4.Power\")\n",
    "print(\"5.Division\")\n",
    "choice=input(\"enter your choice(1/2/3/4/5):\")\n",
    "\n",
    "a=int(input(\"enter value of a= \"))\n",
    "b=int(input(\"enter value of b= \"))\n",
    "\n",
    "if choice=='1':\n",
    "    print(a,\"+\",b,\"=\",add(a,b))\n",
    "elif choice=='2':\n",
    "    print(a,\"-\",b,\"=\",sub(a,b))\n",
    "elif choice=='3':\n",
    "    print(a,\"*\",b,\"=\",mul(a,b))\n",
    "elif choice=='4':\n",
    "    print(a,\"^\",b,\"=\",power(a,b))\n",
    "elif choice=='5':\n",
    "    print(a,\"/\",b,\"=\",div(a,b))\n",
    "else:\n",
    "    print(\"Invalid number\")"
   ]
  },
  {
   "cell_type": "code",
   "execution_count": null,
   "metadata": {},
   "outputs": [],
   "source": []
  }
 ],
 "metadata": {
  "kernelspec": {
   "display_name": "Python 3",
   "language": "python",
   "name": "python3"
  },
  "language_info": {
   "codemirror_mode": {
    "name": "ipython",
    "version": 3
   },
   "file_extension": ".py",
   "mimetype": "text/x-python",
   "name": "python",
   "nbconvert_exporter": "python",
   "pygments_lexer": "ipython3",
   "version": "3.7.4"
  }
 },
 "nbformat": 4,
 "nbformat_minor": 2
}
