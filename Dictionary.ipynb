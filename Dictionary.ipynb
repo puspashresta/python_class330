{
 "cells": [
  {
   "cell_type": "code",
   "execution_count": 1,
   "metadata": {},
   "outputs": [
    {
     "data": {
      "text/plain": [
       "{'a': 'apple', 'b': 'ball', 'c': 'cat'}"
      ]
     },
     "execution_count": 1,
     "metadata": {},
     "output_type": "execute_result"
    }
   ],
   "source": [
    "a={}\n",
    "a['a']='apple'\n",
    "a['b']='ball'\n",
    "a['c']='cat'\n",
    "a"
   ]
  },
  {
   "cell_type": "code",
   "execution_count": 2,
   "metadata": {},
   "outputs": [
    {
     "data": {
      "text/plain": [
       "{'a': 'apple', 'b': 'ball', 'c': 'cat'}"
      ]
     },
     "execution_count": 2,
     "metadata": {},
     "output_type": "execute_result"
    }
   ],
   "source": [
    "#remove redundancy\n",
    "a={'a':'apple','b':'ball','c':'cat'}\n",
    "a['c']='cat'\n",
    "a"
   ]
  },
  {
   "cell_type": "code",
   "execution_count": 4,
   "metadata": {},
   "outputs": [
    {
     "name": "stdout",
     "output_type": "stream",
     "text": [
      "a\n",
      "b\n",
      "c\n"
     ]
    }
   ],
   "source": [
    "for i in a:\n",
    "    print(i)\n",
    "    "
   ]
  },
  {
   "cell_type": "code",
   "execution_count": 5,
   "metadata": {},
   "outputs": [
    {
     "name": "stdout",
     "output_type": "stream",
     "text": [
      "('a', 'apple')\n",
      "('b', 'ball')\n",
      "('c', 'cat')\n"
     ]
    }
   ],
   "source": [
    "for i in a.items():\n",
    "    print(i)"
   ]
  },
  {
   "cell_type": "code",
   "execution_count": null,
   "metadata": {},
   "outputs": [],
   "source": [
    "#dict\n",
    "#a={'<index'>:'<value>',<'index>':\"<value>\",......}"
   ]
  },
  {
   "cell_type": "code",
   "execution_count": 6,
   "metadata": {},
   "outputs": [
    {
     "data": {
      "text/plain": [
       "{'b': 'ball', 'c': 'cat'}"
      ]
     },
     "execution_count": 6,
     "metadata": {},
     "output_type": "execute_result"
    }
   ],
   "source": [
    "del a['a']\n",
    "a"
   ]
  },
  {
   "cell_type": "code",
   "execution_count": 7,
   "metadata": {},
   "outputs": [
    {
     "name": "stdout",
     "output_type": "stream",
     "text": [
      "{'b': 'ball', 'c': ''}\n",
      "apple\n"
     ]
    }
   ],
   "source": [
    "a={'a':'apple','b':'ball','c':''}\n",
    "b=a.pop('a')\n",
    "print(a)\n",
    "print(b)"
   ]
  },
  {
   "cell_type": "code",
   "execution_count": null,
   "metadata": {},
   "outputs": [],
   "source": [
    "#imp\n",
    "#clear()=clear all item\n",
    "#\n",
    "#"
   ]
  },
  {
   "cell_type": "code",
   "execution_count": 8,
   "metadata": {},
   "outputs": [
    {
     "data": {
      "text/plain": [
       "{}"
      ]
     },
     "execution_count": 8,
     "metadata": {},
     "output_type": "execute_result"
    }
   ],
   "source": [
    "a={'a':'apple','b':'ball','c':''}\n",
    "a.clear()\n",
    "a"
   ]
  },
  {
   "cell_type": "code",
   "execution_count": 9,
   "metadata": {},
   "outputs": [
    {
     "name": "stdout",
     "output_type": "stream",
     "text": [
      "Enter value of n= 4\n",
      "Emter name= ram\n",
      "Emter name= sam\n",
      "Emter name= hari\n",
      "Emter name= gopal\n",
      "{1: 'ram', 2: 'sam', 3: 'hari', 4: 'gopal'}\n"
     ]
    }
   ],
   "source": [
    "a={}\n",
    "n=int(input(\"Enter value of n= \"))\n",
    "for i in range(1,n+1):\n",
    "    #(1,n+1)=1 to n\n",
    "    name=input(\"Emter name= \")\n",
    "    a[i]=name\n",
    "print(a)"
   ]
  },
  {
   "cell_type": "code",
   "execution_count": 10,
   "metadata": {},
   "outputs": [
    {
     "name": "stdout",
     "output_type": "stream",
     "text": [
      "{'Name=': 'Aksh', 'Age': 'age', 'Address': 'kir'}\n"
     ]
    }
   ],
   "source": [
    "a={}\n",
    "name='Aksh'\n",
    "age=23\n",
    "add=\"kir\"\n",
    "a={\"Name=\":name,\"Age\":'age','Address':add}\n",
    "print(a)"
   ]
  },
  {
   "cell_type": "code",
   "execution_count": 12,
   "metadata": {},
   "outputs": [
    {
     "name": "stdout",
     "output_type": "stream",
     "text": [
      "Enter n=2\n",
      "Enter name= sd\n",
      "Enter age= 23\n",
      "Enter address= krm\n",
      "Enter name= sam\n",
      "Enter age= 52\n",
      "Enter address= kitm\n",
      "{'Name=': 'sam', 'Age': '52', 'Address': 'kitm'}\n"
     ]
    }
   ],
   "source": [
    "a={}\n",
    "n=int(input(\"Enter n=\"))\n",
    "for i in range(n):\n",
    "    name=input(\"Enter name= \")\n",
    "    age=input(\"Enter age= \")\n",
    "    add=input(\"Enter address= \")\n",
    "    a={\"Name=\":name,\"Age\":age,'Address':add}\n",
    "print(a)"
   ]
  },
  {
   "cell_type": "code",
   "execution_count": 13,
   "metadata": {},
   "outputs": [
    {
     "data": {
      "text/plain": [
       "{'a': 'Apple', 'b': 'Ball', 'c': 'cat'}"
      ]
     },
     "execution_count": 13,
     "metadata": {},
     "output_type": "execute_result"
    }
   ],
   "source": [
    "a={'a':'Apple','b':'Ball'}\n",
    "b={'c':'cat'}\n",
    "a.update(b)\n",
    "a"
   ]
  },
  {
   "cell_type": "code",
   "execution_count": 14,
   "metadata": {},
   "outputs": [
    {
     "data": {
      "text/plain": [
       "{'c': 'cat', 'a': 'Apple', 'b': 'Ball'}"
      ]
     },
     "execution_count": 14,
     "metadata": {},
     "output_type": "execute_result"
    }
   ],
   "source": [
    "a={'a':'Apple','b':'Ball'}\n",
    "b={'c':'cat'}\n",
    "b.update(a)\n",
    "b"
   ]
  },
  {
   "cell_type": "code",
   "execution_count": 15,
   "metadata": {},
   "outputs": [
    {
     "data": {
      "text/plain": [
       "{1: {'name': 'abc', 'age': '32'},\n",
       " 2: {'name': 'abc', 'age': '32'},\n",
       " 3: {'name': 'abc', 'age': '32'},\n",
       " 4: {'name': 'abc', 'age': '32'}}"
      ]
     },
     "execution_count": 15,
     "metadata": {},
     "output_type": "execute_result"
    }
   ],
   "source": [
    "#dict inside dict\n",
    "a={1:{'name':'abc','age':'32'},\n",
    "  2:{'name':'abc','age':'32'},\n",
    "  3:{'name':'abc','age':'32'},\n",
    "  4:{'name':'abc','age':'32'}}\n",
    "a"
   ]
  },
  {
   "cell_type": "code",
   "execution_count": 16,
   "metadata": {},
   "outputs": [
    {
     "name": "stdout",
     "output_type": "stream",
     "text": [
      "{1: {'name': 'abc', 'age': '32'}, 2: {'name': 'abc', 'age': '32'}, 3: {'name': 'abc', 'age': '32'}, 4: {'name': 'abc', 'age': '32'}}\n"
     ]
    }
   ],
   "source": [
    "a={1:{'name':'abc','age':'32'},\n",
    "  2:{'name':'abc','age':'32'},\n",
    "  3:{'name':'abc','age':'32'},\n",
    "  4:{'name':'abc','age':'32'}}\n",
    "print(a)"
   ]
  },
  {
   "cell_type": "code",
   "execution_count": 18,
   "metadata": {},
   "outputs": [
    {
     "name": "stdout",
     "output_type": "stream",
     "text": [
      "{1: {'name': 'abc', 'age': '32'}, 2: {'name': 'abc', 'age': '32'}, 3: {'name': 'abc', 'age': '32'}, 4: {'name': 'sf', 'age': '2'}}\n",
      "{'name': 'sf', 'age': '2'}\n"
     ]
    }
   ],
   "source": [
    "a={1:{'name':'abc','age':'32'},\n",
    "  2:{'name':'abc','age':'32'},\n",
    "  3:{'name':'abc','age':'32'},\n",
    "  4:{'name':'sf','age':'2'}}\n",
    "print(a)\n",
    "print(a[4])"
   ]
  },
  {
   "cell_type": "code",
   "execution_count": 19,
   "metadata": {},
   "outputs": [
    {
     "data": {
      "text/plain": [
       "{1: {'name': 'abc', 'age': '32'},\n",
       " 2: {'name': 'abc', 'age': '32'},\n",
       " 3: {'name': 'abc', 'age': '32'},\n",
       " 4: {'name': 'Sita', 'age': '36'}}"
      ]
     },
     "execution_count": 19,
     "metadata": {},
     "output_type": "execute_result"
    }
   ],
   "source": [
    "a={1:{'name':'abc','age':'32'},\n",
    "  2:{'name':'abc','age':'32'},\n",
    "  3:{'name':'abc','age':'32'}}\n",
    "a[4]={'name':'Sita','age':'36'}\n",
    "a"
   ]
  },
  {
   "cell_type": "code",
   "execution_count": 20,
   "metadata": {},
   "outputs": [
    {
     "data": {
      "text/plain": [
       "{1: {'name': 'abc', 'age': '32', 'add': 'Nepl'},\n",
       " 2: {'name': 'abc', 'age': '32'},\n",
       " 3: {'name': 'abc', 'age': '32'}}"
      ]
     },
     "execution_count": 20,
     "metadata": {},
     "output_type": "execute_result"
    }
   ],
   "source": [
    "#add a field in 1\n",
    "a={1:{'name':'abc','age':'32'},\n",
    "  2:{'name':'abc','age':'32'},\n",
    "  3:{'name':'abc','age':'32'}}\n",
    "a[1]['add']='Nepl'\n",
    "a"
   ]
  },
  {
   "cell_type": "code",
   "execution_count": 21,
   "metadata": {},
   "outputs": [
    {
     "data": {
      "text/plain": [
       "{1: {'name': 'abc', 'age': 22, 'add': 'Nepl'},\n",
       " 2: {'name': 'abc', 'age': '32'},\n",
       " 3: {'name': 'abc', 'age': '32'}}"
      ]
     },
     "execution_count": 21,
     "metadata": {},
     "output_type": "execute_result"
    }
   ],
   "source": [
    "#update\n",
    "a={1:{'name':'abc','age':'32'},\n",
    "  2:{'name':'abc','age':'32'},\n",
    "  3:{'name':'abc','age':'32'}}\n",
    "a[1]['add']='Nepl'\n",
    "a[1]['age']=22\n",
    "a"
   ]
  },
  {
   "cell_type": "code",
   "execution_count": 22,
   "metadata": {},
   "outputs": [
    {
     "name": "stdout",
     "output_type": "stream",
     "text": [
      "Enter no. of rows= 2\n",
      "Enter name= tam\n",
      "Enter age= 34\n",
      "Enter address= ktm\n",
      "Enter name= sam\n",
      "Enter age= 34\n",
      "Enter address= bkt\n",
      "{1: {'Name': 'tam', 'age': '34', 'address': 'ktm'}, 2: {'Name': 'sam', 'age': '34', 'address': 'bkt'}}\n"
     ]
    }
   ],
   "source": [
    "a={}\n",
    "n=int(input(\"Enter no. of rows= \"))\n",
    "for i in range(1,n+1):\n",
    "    name=input(\"Enter name= \")\n",
    "    age=input(\"Enter age= \")\n",
    "    add=input(\"Enter address= \")\n",
    "    a[i]={'Name':name,'age':age,'address':add}\n",
    "print(a)"
   ]
  },
  {
   "cell_type": "code",
   "execution_count": 23,
   "metadata": {},
   "outputs": [
    {
     "name": "stdout",
     "output_type": "stream",
     "text": [
      "Enter no. of rows= 2\n",
      "Enter name= ram\n",
      "Enter marks= 54\n",
      "Enter marks in physic= 24\n",
      "Enter marks in bio= 56\n",
      "Enter marks in chemistry= 44\n",
      "Enter name= Sam\n",
      "Enter marks= 87\n",
      "Enter marks in physic= 52\n",
      "Enter marks in bio= 14\n",
      "Enter marks in chemistry= 36\n",
      "{1: {'Name': 'ram', 'math': 54, 'physics': 24, 'bio': 56, 'chemistry': '44'}, 2: {'Name': 'Sam', 'math': 87, 'physics': 52, 'bio': 14, 'chemistry': '36'}}\n"
     ]
    }
   ],
   "source": [
    "a={}\n",
    "n=int(input(\"Enter no. of rows= \"))\n",
    "for i in range(1,n+1):\n",
    "    name=input(\"Enter name= \")\n",
    "    math=int(input(\"Enter marks= \"))\n",
    "    physics=int(input(\"Enter marks in physic= \"))\n",
    "    bio=int(input(\"Enter marks in bio= \"))\n",
    "    chemistry=input(\"Enter marks in chemistry= \")\n",
    "    total=[math,physics,bio,chemistry]\n",
    "    a[i]={'Name':name,'math':math,'physics':physics,'bio':bio,'chemistry':chemistry}\n",
    "print(a)"
   ]
  },
  {
   "cell_type": "code",
   "execution_count": 29,
   "metadata": {},
   "outputs": [
    {
     "name": "stdout",
     "output_type": "stream",
     "text": [
      "Enter no. of rows= 2\n",
      "Enter name= ram\n",
      "Enter marks= 41\n",
      "Enter marks in physic= 52\n",
      "Enter marks in bio= 75\n",
      "Enter marks in chemistry= 85\n",
      "Enter name= sam\n",
      "Enter marks= 52\n",
      "Enter marks in physic= 01\n",
      "Enter marks in bio= 23\n",
      "Enter marks in chemistry= 45\n",
      "{'Name': ['ram', 'sam'], 'MAth': [41, 52], 'Physics': [52, 1], 'bio': [75, 23], 'chemistry': [85, 45], 'total': [253, 121]}\n"
     ]
    }
   ],
   "source": [
    "a=[]\n",
    "naam=[]\n",
    "mat=[]\n",
    "physic=[]\n",
    "bo=[]\n",
    "chemist=[]\n",
    "tota=[]\n",
    "n=int(input(\"Enter no. of rows= \"))\n",
    "for i in range(1,n+1):\n",
    "    name=input(\"Enter name= \")\n",
    "    math=int(input(\"Enter marks= \"))\n",
    "    physics=int(input(\"Enter marks in physic= \"))\n",
    "    bio=int(input(\"Enter marks in bio= \"))\n",
    "    chemistry=int(input(\"Enter marks in chemistry= \"))\n",
    "    total=sum([math,physics,bio,chemistry])\n",
    "    naam.append(name)\n",
    "    mat.append(math)\n",
    "    physic.append(physics)\n",
    "    bo.append(bio)\n",
    "    chemist.append(chemistry)\n",
    "    tota.append(total)\n",
    "    a={'Name':naam,'MAth':mat,'Physics':physic,'bio':bo,'chemistry':chemist,'total':tota}\n",
    "print(a)"
   ]
  },
  {
   "cell_type": "code",
   "execution_count": 35,
   "metadata": {},
   "outputs": [
    {
     "name": "stdout",
     "output_type": "stream",
     "text": [
      "Enter no. of rows= 1\n",
      "Enter name= rajiv\n",
      "Enter marks= 58\n",
      "Enter marks in physic= 74\n",
      "Enter marks in bio= 45\n",
      "Enter marks in chemistry= 69\n"
     ]
    },
    {
     "ename": "TypeError",
     "evalue": "unsupported operand type(s) for /: 'list' and 'int'",
     "output_type": "error",
     "traceback": [
      "\u001b[1;31m---------------------------------------------------------------------------\u001b[0m",
      "\u001b[1;31mTypeError\u001b[0m                                 Traceback (most recent call last)",
      "\u001b[1;32m<ipython-input-35-c15d7f4a1b97>\u001b[0m in \u001b[0;36m<module>\u001b[1;34m\u001b[0m\n\u001b[0;32m      8\u001b[0m     \u001b[0mchemistry\u001b[0m\u001b[1;33m=\u001b[0m\u001b[0mfloat\u001b[0m\u001b[1;33m(\u001b[0m\u001b[0minput\u001b[0m\u001b[1;33m(\u001b[0m\u001b[1;34m\"Enter marks in chemistry= \"\u001b[0m\u001b[1;33m)\u001b[0m\u001b[1;33m)\u001b[0m\u001b[1;33m\u001b[0m\u001b[1;33m\u001b[0m\u001b[0m\n\u001b[0;32m      9\u001b[0m     \u001b[0mtotal\u001b[0m\u001b[1;33m=\u001b[0m\u001b[1;33m[\u001b[0m\u001b[0mmath\u001b[0m\u001b[1;33m,\u001b[0m\u001b[0mphysics\u001b[0m\u001b[1;33m,\u001b[0m\u001b[0mbio\u001b[0m\u001b[1;33m,\u001b[0m\u001b[0mchemistry\u001b[0m\u001b[1;33m]\u001b[0m\u001b[1;33m\u001b[0m\u001b[1;33m\u001b[0m\u001b[0m\n\u001b[1;32m---> 10\u001b[1;33m     \u001b[0mprint\u001b[0m\u001b[1;33m(\u001b[0m\u001b[1;34m\"Percentage is\"\u001b[0m\u001b[1;33m,\u001b[0m\u001b[1;33m(\u001b[0m\u001b[0mtotal\u001b[0m\u001b[1;33m/\u001b[0m\u001b[1;36m4\u001b[0m\u001b[1;33m)\u001b[0m\u001b[1;33m)\u001b[0m\u001b[1;33m\u001b[0m\u001b[1;33m\u001b[0m\u001b[0m\n\u001b[0m\u001b[0;32m     11\u001b[0m     \u001b[0ma\u001b[0m\u001b[1;33m[\u001b[0m\u001b[0mi\u001b[0m\u001b[1;33m]\u001b[0m\u001b[1;33m=\u001b[0m\u001b[1;33m{\u001b[0m\u001b[1;34m'Name'\u001b[0m\u001b[1;33m:\u001b[0m\u001b[0mname\u001b[0m\u001b[1;33m,\u001b[0m\u001b[1;34m'math'\u001b[0m\u001b[1;33m:\u001b[0m\u001b[0mmath\u001b[0m\u001b[1;33m,\u001b[0m\u001b[1;34m'physics'\u001b[0m\u001b[1;33m:\u001b[0m\u001b[0mphysics\u001b[0m\u001b[1;33m,\u001b[0m\u001b[1;34m'bio'\u001b[0m\u001b[1;33m:\u001b[0m\u001b[0mbio\u001b[0m\u001b[1;33m,\u001b[0m\u001b[1;34m'chemistry'\u001b[0m\u001b[1;33m:\u001b[0m\u001b[0mchemistry\u001b[0m\u001b[1;33m,\u001b[0m\u001b[1;34m'Percentage'\u001b[0m\u001b[1;33m:\u001b[0m\u001b[0mper\u001b[0m\u001b[1;33m}\u001b[0m\u001b[1;33m\u001b[0m\u001b[1;33m\u001b[0m\u001b[0m\n\u001b[0;32m     12\u001b[0m \u001b[1;33m\u001b[0m\u001b[0m\n",
      "\u001b[1;31mTypeError\u001b[0m: unsupported operand type(s) for /: 'list' and 'int'"
     ]
    }
   ],
   "source": [
    "a={}\n",
    "n=int(input(\"Enter no. of rows= \"))\n",
    "for i in range(1,n+1):\n",
    "    name=input(\"Enter name= \")\n",
    "    math=float(input(\"Enter marks= \"))\n",
    "    physics=float(input(\"Enter marks in physic= \"))\n",
    "    bio=float(input(\"Enter marks in bio= \"))\n",
    "    chemistry=float(input(\"Enter marks in chemistry= \"))\n",
    "    total=[math,physics,bio,chemistry]\n",
    "    print(\"Percentage is\",(total/4))\n",
    "    a[i]={'Name':name,'math':math,'physics':physics,'bio':bio,'chemistry':chemistry,'Percentage':per}\n",
    "    \n",
    "        \n",
    "print(a)"
   ]
  },
  {
   "cell_type": "code",
   "execution_count": null,
   "metadata": {},
   "outputs": [],
   "source": []
  }
 ],
 "metadata": {
  "kernelspec": {
   "display_name": "Python 3",
   "language": "python",
   "name": "python3"
  },
  "language_info": {
   "codemirror_mode": {
    "name": "ipython",
    "version": 3
   },
   "file_extension": ".py",
   "mimetype": "text/x-python",
   "name": "python",
   "nbconvert_exporter": "python",
   "pygments_lexer": "ipython3",
   "version": "3.7.4"
  }
 },
 "nbformat": 4,
 "nbformat_minor": 2
}
