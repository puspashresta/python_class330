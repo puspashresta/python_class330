{
 "cells": [
  {
   "cell_type": "code",
   "execution_count": 2,
   "metadata": {},
   "outputs": [
    {
     "name": "stdout",
     "output_type": "stream",
     "text": [
      "Enter value of n=3\n",
      "i*n=  3\n",
      "i*n=  6\n",
      "i*n=  9\n"
     ]
    }
   ],
   "source": [
    "n=int(input(\"Enter value of n=\"))\n",
    "for i in range(1,n+1):\n",
    "    print(\"i*n= \",i*n)"
   ]
  },
  {
   "cell_type": "code",
   "execution_count": 3,
   "metadata": {},
   "outputs": [
    {
     "name": "stdout",
     "output_type": "stream",
     "text": [
      "Enter value of n=5\n",
      "i*n=  5\n",
      "i*n=  10\n",
      "i*n=  15\n",
      "i*n=  20\n",
      "i*n=  25\n"
     ]
    }
   ],
   "source": [
    "n=int(input(\"Enter value of n=\"))\n",
    "for i in range(1,n+1):\n",
    "    print(\"i*n= \",n*i)"
   ]
  },
  {
   "cell_type": "code",
   "execution_count": 11,
   "metadata": {},
   "outputs": [
    {
     "name": "stdout",
     "output_type": "stream",
     "text": [
      "Enter value of n=5\n",
      "The factorial of n is: 1\n",
      "The factorial of n is: 2\n",
      "The factorial of n is: 6\n",
      "The factorial of n is: 24\n",
      "The factorial of n is: 120\n"
     ]
    }
   ],
   "source": [
    "x=1\n",
    "n=int(input(\"Enter value of n=\"))\n",
    "for i in range(1,n+1):\n",
    "    x=x*i\n",
    "    print(\"The factorial of n is:\",x)"
   ]
  },
  {
   "cell_type": "code",
   "execution_count": 13,
   "metadata": {},
   "outputs": [
    {
     "name": "stdout",
     "output_type": "stream",
     "text": [
      "Enter n=2\n",
      "Enter first name= puspa\n",
      "Enter middle name= lal\n",
      "Enter last name= shrestha\n",
      "Enter first name= kanxi\n",
      "Enter middle name= maya\n",
      "Enter last name= thapa\n",
      "puspa  lal shresthakanxi  maya thapa\n"
     ]
    }
   ],
   "source": [
    "a=\"\"\n",
    "n=int(input(\"Enter n=\"))\n",
    "for i in range(n):\n",
    "    b=input(\"Enter first name= \")\n",
    "    c=input(\"Enter middle name= \")\n",
    "    d=input(\"Enter last name= \")\n",
    "    a=a+b+\" \"+\" \"+c+\" \"+d+\" \"\n",
    "    \n",
    "print(a)"
   ]
  },
  {
   "cell_type": "code",
   "execution_count": 14,
   "metadata": {},
   "outputs": [
    {
     "data": {
      "text/plain": [
       "'lal'"
      ]
     },
     "execution_count": 14,
     "metadata": {},
     "output_type": "execute_result"
    }
   ],
   "source": [
    "a=('puspa','lal','shrestha')\n",
    "a[1]"
   ]
  },
  {
   "cell_type": "code",
   "execution_count": 19,
   "metadata": {},
   "outputs": [
    {
     "name": "stdout",
     "output_type": "stream",
     "text": [
      "('puspa', 'mukti', 'shrestha')\n"
     ]
    }
   ],
   "source": [
    "a=('puspa','lal','shrestha')\n",
    "b=list(a)\n",
    "b[1]='mukti'\n",
    "c=tuple(b)\n",
    "print(c)"
   ]
  },
  {
   "cell_type": "code",
   "execution_count": 8,
   "metadata": {},
   "outputs": [
    {
     "name": "stdout",
     "output_type": "stream",
     "text": [
      "2020-03-04 11:20:29.413163\n",
      "2020\n",
      "Wednesday\n"
     ]
    }
   ],
   "source": [
    "import datetime\n",
    "#import numpy as np\n",
    "\n",
    "today=datetime.datetime.now()\n",
    "print(today)\n",
    "print(today.year)\n",
    "print(today.strftime(\"%A\"))\n",
    "# yesterday=np.datetime46('today','D').np.timedelta64(1,'D')\n",
    "# print(\"Yesterday= \",yesterday)\n",
    "# today=np.datetime64('today','D')\n",
    "# print(\"Today= \",today)\n",
    "# tomorrow=np.datetime64('today','D')+np.timedelta64(1,'D')\n",
    "# print(\"Tomorrow\",tomorrow)"
   ]
  },
  {
   "cell_type": "code",
   "execution_count": 9,
   "metadata": {},
   "outputs": [
    {
     "ename": "TypeError",
     "evalue": "the JSON object must be str, bytes or bytearray, not dict",
     "output_type": "error",
     "traceback": [
      "\u001b[1;31m---------------------------------------------------------------------------\u001b[0m",
      "\u001b[1;31mTypeError\u001b[0m                                 Traceback (most recent call last)",
      "\u001b[1;32m<ipython-input-9-41e8d9a35a8a>\u001b[0m in \u001b[0;36m<module>\u001b[1;34m\u001b[0m\n\u001b[0;32m      7\u001b[0m \u001b[1;33m\u001b[0m\u001b[0m\n\u001b[0;32m      8\u001b[0m \u001b[1;31m#parse\u001b[0m\u001b[1;33m\u001b[0m\u001b[1;33m\u001b[0m\u001b[1;33m\u001b[0m\u001b[0m\n\u001b[1;32m----> 9\u001b[1;33m \u001b[0my\u001b[0m\u001b[1;33m=\u001b[0m\u001b[0mjson\u001b[0m\u001b[1;33m.\u001b[0m\u001b[0mloads\u001b[0m\u001b[1;33m(\u001b[0m\u001b[0mx\u001b[0m\u001b[1;33m)\u001b[0m\u001b[1;33m\u001b[0m\u001b[1;33m\u001b[0m\u001b[0m\n\u001b[0m\u001b[0;32m     10\u001b[0m \u001b[1;33m\u001b[0m\u001b[0m\n\u001b[0;32m     11\u001b[0m \u001b[0mprint\u001b[0m\u001b[1;33m(\u001b[0m\u001b[0my\u001b[0m\u001b[1;33m[\u001b[0m\u001b[1;34m\"age\"\u001b[0m\u001b[1;33m]\u001b[0m\u001b[1;33m)\u001b[0m\u001b[1;33m\u001b[0m\u001b[1;33m\u001b[0m\u001b[0m\n",
      "\u001b[1;32m~\\Anaconda3\\lib\\json\\__init__.py\u001b[0m in \u001b[0;36mloads\u001b[1;34m(s, encoding, cls, object_hook, parse_float, parse_int, parse_constant, object_pairs_hook, **kw)\u001b[0m\n\u001b[0;32m    339\u001b[0m     \u001b[1;32melse\u001b[0m\u001b[1;33m:\u001b[0m\u001b[1;33m\u001b[0m\u001b[1;33m\u001b[0m\u001b[0m\n\u001b[0;32m    340\u001b[0m         \u001b[1;32mif\u001b[0m \u001b[1;32mnot\u001b[0m \u001b[0misinstance\u001b[0m\u001b[1;33m(\u001b[0m\u001b[0ms\u001b[0m\u001b[1;33m,\u001b[0m \u001b[1;33m(\u001b[0m\u001b[0mbytes\u001b[0m\u001b[1;33m,\u001b[0m \u001b[0mbytearray\u001b[0m\u001b[1;33m)\u001b[0m\u001b[1;33m)\u001b[0m\u001b[1;33m:\u001b[0m\u001b[1;33m\u001b[0m\u001b[1;33m\u001b[0m\u001b[0m\n\u001b[1;32m--> 341\u001b[1;33m             raise TypeError(f'the JSON object must be str, bytes or bytearray, '\n\u001b[0m\u001b[0;32m    342\u001b[0m                             f'not {s.__class__.__name__}')\n\u001b[0;32m    343\u001b[0m         \u001b[0ms\u001b[0m \u001b[1;33m=\u001b[0m \u001b[0ms\u001b[0m\u001b[1;33m.\u001b[0m\u001b[0mdecode\u001b[0m\u001b[1;33m(\u001b[0m\u001b[0mdetect_encoding\u001b[0m\u001b[1;33m(\u001b[0m\u001b[0ms\u001b[0m\u001b[1;33m)\u001b[0m\u001b[1;33m,\u001b[0m \u001b[1;34m'surrogatepass'\u001b[0m\u001b[1;33m)\u001b[0m\u001b[1;33m\u001b[0m\u001b[1;33m\u001b[0m\u001b[0m\n",
      "\u001b[1;31mTypeError\u001b[0m: the JSON object must be str, bytes or bytearray, not dict"
     ]
    }
   ],
   "source": [
    "#Json is syntax for storing and exchanging data\n",
    "\n",
    "import json\n",
    "\n",
    "#some json\n",
    "x={\"name\":\"puspa\",\"age\":22,\"address\":\"ktm\"}\n",
    "\n",
    "#parse x:\n",
    "y=json.loads(x)\n",
    "\n",
    "print(y[\"age\"])"
   ]
  },
  {
   "cell_type": "code",
   "execution_count": 1,
   "metadata": {},
   "outputs": [
    {
     "name": "stdout",
     "output_type": "stream",
     "text": [
      "Enter value of n= 2\n",
      "Enter name = puspa\n",
      "Enter age = 22\n",
      "Enter address = kirtipur\n",
      "Enter name = kanxi\n",
      "Enter age = 22\n",
      "Enter address = ktm\n"
     ]
    }
   ],
   "source": [
    "#file handling\n",
    "a=open(\"practice.txt\",\"a\")\n",
    "n=int(input(\"Enter value of n= \"))\n",
    "for i in range(n):\n",
    "    name=input(\"Enter name = \")\n",
    "    age=int(input(\"Enter age = \"))\n",
    "    add=input(\"Enter address = \")\n",
    "    info=f\"{name} {age} {add}\\n\"\n",
    "    a.write(info)\n",
    "a.close()"
   ]
  },
  {
   "cell_type": "code",
   "execution_count": 7,
   "metadata": {},
   "outputs": [
    {
     "name": "stdout",
     "output_type": "stream",
     "text": [
      "[['puspa'], ['22'], ['kirtipur'], ['kanxi'], ['22']]\n"
     ]
    }
   ],
   "source": [
    "infos=[]\n",
    "a=open(\"practice.txt\",\"r\")\n",
    "b=a.read()\n",
    "c=b.split()\n",
    "for i in c:\n",
    "    infos.append(i.split())\n",
    "a.close()\n",
    "print(infos[0:-1])"
   ]
  },
  {
   "cell_type": "code",
   "execution_count": null,
   "metadata": {},
   "outputs": [],
   "source": [
    "a=open(\"marks.txt\",\"a\")\n",
    "n=int(input(\"Enter no of students: \"))\n",
    "for i in range(n):\n",
    "    name=input(\"Enter name here: \")\n",
    "    roll=int(input(\"Enter roll no: \"))\n",
    "    math=float(input(\"Enter marks of math: \"))\n",
    "    acc=float(input(\"Enter marks of account: \"))\n",
    "    eco=float(input(\"Enter marks of economics: \"))\n",
    "    eng=float(input(\"Enter marks of english: \"))\n",
    "    marksheet=f\"{name} {roll} {math} {acc} {eco} {eng}\\n\"\n",
    "    "
   ]
  },
  {
   "cell_type": "code",
   "execution_count": null,
   "metadata": {},
   "outputs": [],
   "source": [
    "information=[]\n",
    "a=open(\"marks.txt\",\"r\")\n",
    "b=a.read()\n",
    "c=b.split()\n",
    "for i in c:\n",
    "    information.append(i.split())\n",
    "a.close()\n",
    "print(information[0:-1])"
   ]
  },
  {
   "cell_type": "code",
   "execution_count": 2,
   "metadata": {},
   "outputs": [
    {
     "name": "stdout",
     "output_type": "stream",
     "text": [
      "Entr n=2\n",
      "0\n",
      "0\n"
     ]
    }
   ],
   "source": [
    "a=1\n",
    "n=int(input(\"Entr n=\"))\n",
    "for i in range(n):\n",
    "    a=a*i\n",
    "    print(a)"
   ]
  },
  {
   "cell_type": "code",
   "execution_count": 3,
   "metadata": {},
   "outputs": [
    {
     "name": "stdout",
     "output_type": "stream",
     "text": [
      "Enter value of n= 3\n",
      "Enter name= sudip\n",
      "Enter section= A\n",
      "Enter marks in math= 84\n",
      "Enter marks in account= 77\n",
      "Enter marks in economics= 67\n",
      "Enter name= Sushma\n",
      "Enter section= B\n",
      "Enter marks in math= 86\n",
      "Enter marks in account= 85\n",
      "Enter marks in economics= 77\n",
      "Enter name= Samir\n",
      "Enter section= B\n",
      "Enter marks in math= 98\n",
      "Enter marks in account= 78\n",
      "Enter marks in economics= 54\n"
     ]
    }
   ],
   "source": [
    "#csv file\n",
    "a=open('result.csv','a')\n",
    "n=int(input(\"Enter value of n= \"))\n",
    "for i in range(n):\n",
    "    name=input(\"Enter name= \")\n",
    "    sec=input(\"Enter section= \")\n",
    "    math=int(input(\"Enter marks in math= \"))\n",
    "    acc=int(input(\"Enter marks in account= \"))\n",
    "    eco=int(input(\"Enter marks in economics= \"))\n",
    "    b=f\"{name},{sec},{math},{acc},{eco}\\n\"\n",
    "    a.write(b)\n",
    "a.close()"
   ]
  },
  {
   "cell_type": "code",
   "execution_count": 2,
   "metadata": {},
   "outputs": [
    {
     "name": "stdout",
     "output_type": "stream",
     "text": [
      "Enter value of n= 2\n",
      "Enter roll here= 32\n",
      "Enter name= saili\n",
      "Enter sec= G\n",
      "Enter address= patan\n",
      "Enter marks in math= 32\n",
      "Enter marks in account= 54\n",
      "Enter marks in economcs= 54\n",
      "Enter marks in english= 43\n",
      "Enter marks in nepali= 43\n",
      "Enter roll here= 21\n",
      "Enter name= maili\n",
      "Enter sec= D\n",
      "Enter address= koteswor\n",
      "Enter marks in math= 98\n",
      "Enter marks in account= 08\n",
      "Enter marks in economcs= 32\n",
      "Enter marks in english= 54\n",
      "Enter marks in nepali= 54\n"
     ]
    }
   ],
   "source": [
    "import pandas as p\n",
    "a=open(\"DAV.csv\",\"a\")\n",
    "a.write('Roll_no,Name,Sec,Math,Account,Economics,English,Nepali,Total\\n')\n",
    "n=int(input(\"Enter value of n= \"))\n",
    "for i in range(n):\n",
    "    roll=int(input(\"Enter roll here= \")) \n",
    "    name=input(\"Enter name= \")\n",
    "    sec=input(\"Enter sec= \")\n",
    "    add=input(\"Enter address= \")\n",
    "    math=int(input(\"Enter marks in math= \"))\n",
    "    acc=int(input(\"Enter marks in account= \"))\n",
    "    eco=int(input(\"Enter marks in economcs= \"))\n",
    "    eng=int(input(\"Enter marks in english= \"))\n",
    "    nep=int(input(\"Enter marks in nepali= \"))\n",
    "   # total=sum(math,acc,eco,eng,nep)\n",
    "    info=f\"{roll},{name},{sec},{add},{acc},{eco},{eng},{nep}\\n\"\n",
    "    a.write(info)\n",
    "a.close()\n",
    "\n",
    "    "
   ]
  },
  {
   "cell_type": "markdown",
   "metadata": {},
   "source": [
    "import pandas as p\n",
    "a=open(\"DAV.csv\",\"a\")\n",
    "a.write('Roll_no,Name,Sec,Math,Account,Economics,English,Nepali,Total\\n')\n",
    "n=int(input(\"Enter value of n= \"))\n",
    "for i in range(n):\n",
    "    roll=int(input(\"Enter roll here= \")) \n",
    "    name=input(\"Enter name= \")\n",
    "    sec=input(\"Enter sec= \")\n",
    "    add=input(\"Enter address= \")\n",
    "    math=int(input(\"Enter marks in math= \"))\n",
    "    acc=int(input(\"Enter marks in account= \"))\n",
    "    eco=int(input(\"Enter marks in economcs= \"))\n",
    "    eng=int(input(\"Enter marks in english= \"))\n",
    "    nep=int(input(\"Enter marks in nepali= \"))\n",
    "    #total=sum(math,acc,eco,eng,nep)\n",
    "    info=f\"{roll},{name},{sec},{add},{acc},{eco},{eng},{nep}\\n\"\n",
    "    a.write(info)\n",
    "\n",
    "a.close()\n",
    "\n",
    "    "
   ]
  },
  {
   "cell_type": "code",
   "execution_count": 5,
   "metadata": {},
   "outputs": [
    {
     "data": {
      "text/html": [
       "<div>\n",
       "<style scoped>\n",
       "    .dataframe tbody tr th:only-of-type {\n",
       "        vertical-align: middle;\n",
       "    }\n",
       "\n",
       "    .dataframe tbody tr th {\n",
       "        vertical-align: top;\n",
       "    }\n",
       "\n",
       "    .dataframe thead th {\n",
       "        text-align: right;\n",
       "    }\n",
       "</style>\n",
       "<table border=\"1\" class=\"dataframe\">\n",
       "  <thead>\n",
       "    <tr style=\"text-align: right;\">\n",
       "      <th></th>\n",
       "      <th>Name</th>\n",
       "      <th>Sec</th>\n",
       "      <th>Math</th>\n",
       "      <th>Account</th>\n",
       "      <th>Economics</th>\n",
       "      <th>English</th>\n",
       "      <th>Nepali</th>\n",
       "      <th>Total</th>\n",
       "    </tr>\n",
       "    <tr>\n",
       "      <th>Roll_no</th>\n",
       "      <th></th>\n",
       "      <th></th>\n",
       "      <th></th>\n",
       "      <th></th>\n",
       "      <th></th>\n",
       "      <th></th>\n",
       "      <th></th>\n",
       "      <th></th>\n",
       "    </tr>\n",
       "  </thead>\n",
       "  <tbody>\n",
       "    <tr>\n",
       "      <td>Roll_no</td>\n",
       "      <td>Name</td>\n",
       "      <td>Sec</td>\n",
       "      <td>Math</td>\n",
       "      <td>Account</td>\n",
       "      <td>Economics</td>\n",
       "      <td>English</td>\n",
       "      <td>Nepali</td>\n",
       "      <td>Total</td>\n",
       "    </tr>\n",
       "    <tr>\n",
       "      <td>2</td>\n",
       "      <td>aalok</td>\n",
       "      <td>a</td>\n",
       "      <td>55</td>\n",
       "      <td>25</td>\n",
       "      <td>41</td>\n",
       "      <td>65</td>\n",
       "      <td>NaN</td>\n",
       "      <td>NaN</td>\n",
       "    </tr>\n",
       "    <tr>\n",
       "      <td>25</td>\n",
       "      <td>Samir</td>\n",
       "      <td>c</td>\n",
       "      <td>52</td>\n",
       "      <td>10</td>\n",
       "      <td>12</td>\n",
       "      <td>45</td>\n",
       "      <td>NaN</td>\n",
       "      <td>NaN</td>\n",
       "    </tr>\n",
       "    <tr>\n",
       "      <td>12</td>\n",
       "      <td>sudip</td>\n",
       "      <td>a</td>\n",
       "      <td>54</td>\n",
       "      <td>78</td>\n",
       "      <td>65</td>\n",
       "      <td>38</td>\n",
       "      <td>NaN</td>\n",
       "      <td>NaN</td>\n",
       "    </tr>\n",
       "    <tr>\n",
       "      <td>5</td>\n",
       "      <td>hari</td>\n",
       "      <td>z</td>\n",
       "      <td>98</td>\n",
       "      <td>79</td>\n",
       "      <td>58</td>\n",
       "      <td>68</td>\n",
       "      <td>NaN</td>\n",
       "      <td>NaN</td>\n",
       "    </tr>\n",
       "    <tr>\n",
       "      <td>17</td>\n",
       "      <td>puspa</td>\n",
       "      <td>a</td>\n",
       "      <td>45</td>\n",
       "      <td>65</td>\n",
       "      <td>38</td>\n",
       "      <td>56</td>\n",
       "      <td>NaN</td>\n",
       "      <td>NaN</td>\n",
       "    </tr>\n",
       "    <tr>\n",
       "      <td>23</td>\n",
       "      <td>devi</td>\n",
       "      <td>b</td>\n",
       "      <td>57</td>\n",
       "      <td>89</td>\n",
       "      <td>56</td>\n",
       "      <td>78</td>\n",
       "      <td>NaN</td>\n",
       "      <td>NaN</td>\n",
       "    </tr>\n",
       "    <tr>\n",
       "      <td>Roll_no</td>\n",
       "      <td>Name</td>\n",
       "      <td>Sec</td>\n",
       "      <td>Math</td>\n",
       "      <td>Account</td>\n",
       "      <td>Economics</td>\n",
       "      <td>English</td>\n",
       "      <td>Nepali</td>\n",
       "      <td>Total</td>\n",
       "    </tr>\n",
       "    <tr>\n",
       "      <td>Roll_no</td>\n",
       "      <td>Name</td>\n",
       "      <td>Sec</td>\n",
       "      <td>Math</td>\n",
       "      <td>Account</td>\n",
       "      <td>Economics</td>\n",
       "      <td>English</td>\n",
       "      <td>Nepali</td>\n",
       "      <td>Total</td>\n",
       "    </tr>\n",
       "    <tr>\n",
       "      <td>Roll_no</td>\n",
       "      <td>Name</td>\n",
       "      <td>Sec</td>\n",
       "      <td>Math</td>\n",
       "      <td>Account</td>\n",
       "      <td>Economics</td>\n",
       "      <td>English</td>\n",
       "      <td>Nepali</td>\n",
       "      <td>Total</td>\n",
       "    </tr>\n",
       "    <tr>\n",
       "      <td>32</td>\n",
       "      <td>saili</td>\n",
       "      <td>G</td>\n",
       "      <td>patan</td>\n",
       "      <td>54</td>\n",
       "      <td>54</td>\n",
       "      <td>43</td>\n",
       "      <td>43</td>\n",
       "      <td>NaN</td>\n",
       "    </tr>\n",
       "    <tr>\n",
       "      <td>21</td>\n",
       "      <td>maili</td>\n",
       "      <td>D</td>\n",
       "      <td>koteswor</td>\n",
       "      <td>8</td>\n",
       "      <td>32</td>\n",
       "      <td>54</td>\n",
       "      <td>54</td>\n",
       "      <td>NaN</td>\n",
       "    </tr>\n",
       "  </tbody>\n",
       "</table>\n",
       "</div>"
      ],
      "text/plain": [
       "          Name  Sec      Math  Account  Economics  English  Nepali  Total\n",
       "Roll_no                                                                  \n",
       "Roll_no   Name  Sec      Math  Account  Economics  English  Nepali  Total\n",
       "2        aalok    a        55       25         41       65     NaN    NaN\n",
       "25       Samir    c        52       10         12       45     NaN    NaN\n",
       "12       sudip    a        54       78         65       38     NaN    NaN\n",
       "5         hari    z        98       79         58       68     NaN    NaN\n",
       "17       puspa    a        45       65         38       56     NaN    NaN\n",
       "23        devi    b        57       89         56       78     NaN    NaN\n",
       "Roll_no   Name  Sec      Math  Account  Economics  English  Nepali  Total\n",
       "Roll_no   Name  Sec      Math  Account  Economics  English  Nepali  Total\n",
       "Roll_no   Name  Sec      Math  Account  Economics  English  Nepali  Total\n",
       "32       saili    G     patan       54         54       43      43    NaN\n",
       "21       maili    D  koteswor        8         32       54      54    NaN"
      ]
     },
     "execution_count": 5,
     "metadata": {},
     "output_type": "execute_result"
    }
   ],
   "source": [
    "import pandas as p\n",
    "pd=p.read_csv(\"DAV.csv\",index_col=\"Roll_no\")\n",
    "pd"
   ]
  },
  {
   "cell_type": "code",
   "execution_count": 23,
   "metadata": {},
   "outputs": [
    {
     "ename": "SyntaxError",
     "evalue": "invalid syntax (<ipython-input-23-0ffc2a26581c>, line 3)",
     "output_type": "error",
     "traceback": [
      "\u001b[1;36m  File \u001b[1;32m\"<ipython-input-23-0ffc2a26581c>\"\u001b[1;36m, line \u001b[1;32m3\u001b[0m\n\u001b[1;33m    pd.iloc(0:6,1:7)\u001b[0m\n\u001b[1;37m             ^\u001b[0m\n\u001b[1;31mSyntaxError\u001b[0m\u001b[1;31m:\u001b[0m invalid syntax\n"
     ]
    }
   ],
   "source": [
    "import pandas as p\n",
    "pd=p.read_csv(\"DAV.csv\",index_col='Roll_no',usecols=['Roll_no','Name','Sec','Math','Account','Economics','English'])\n",
    "pd.iloc(0:6,1:7)"
   ]
  },
  {
   "cell_type": "code",
   "execution_count": 12,
   "metadata": {},
   "outputs": [
    {
     "name": "stdout",
     "output_type": "stream",
     "text": [
      "2,5\n"
     ]
    }
   ],
   "source": [
    "#add two point\n",
    "class add:\n",
    "    def __init__(self,x,y):\n",
    "        self.x=x\n",
    "        self.y=y\n",
    "    def __str__(self):\n",
    "        return f\"{self.x},{self.y}\"\n",
    "    def __add__(self,other):\n",
    "        x=self.x+other.x\n",
    "        y=self.y+other.y\n",
    "        #print(other.x)\n",
    "        #print(other.y)\n",
    "        return add(x,y)\n",
    "x1=add(1,2)\n",
    "y1=add(1,3)\n",
    "sum=x1+y1\n",
    "print(sum)"
   ]
  },
  {
   "cell_type": "code",
   "execution_count": 13,
   "metadata": {},
   "outputs": [
    {
     "name": "stdout",
     "output_type": "stream",
     "text": [
      "2,4,6\n"
     ]
    }
   ],
   "source": [
    "#add three point\n",
    "class add:\n",
    "    def __init__(self,x,y,z):\n",
    "        self.x=x\n",
    "        self.y=y\n",
    "        self.z=z\n",
    "    def __str__(self):\n",
    "        return f\"{self.x},{self.y},{self.z}\"\n",
    "    def __add__(self,other):\n",
    "        x=self.x+other.x\n",
    "        y=self.y+other.y\n",
    "        z=self.z+other.z\n",
    "        #print(other.x)\n",
    "        #print(other.y)\n",
    "        return add(x,y,z)\n",
    "x1=add(1,2,3)\n",
    "y1=add(1,2,3)\n",
    "sum=x1+y1\n",
    "print(sum)"
   ]
  },
  {
   "cell_type": "code",
   "execution_count": 16,
   "metadata": {},
   "outputs": [
    {
     "data": {
      "text/plain": [
       "{'name': 'Kanchii', 'age': 18}"
      ]
     },
     "execution_count": 16,
     "metadata": {},
     "output_type": "execute_result"
    }
   ],
   "source": [
    "#repr method\n",
    "class Demo:\n",
    "    def __init__(self,name,age):\n",
    "        self.name=name\n",
    "        self.age=age\n",
    "    def __repr__(self):\n",
    "        return {'name':self.name,'age':self.age}\n",
    "obj1=Demo(\"Kanchii\",18)\n",
    "obj1.__repr__()"
   ]
  },
  {
   "cell_type": "code",
   "execution_count": null,
   "metadata": {},
   "outputs": [],
   "source": []
  }
 ],
 "metadata": {
  "kernelspec": {
   "display_name": "Python 3",
   "language": "python",
   "name": "python3"
  },
  "language_info": {
   "codemirror_mode": {
    "name": "ipython",
    "version": 3
   },
   "file_extension": ".py",
   "mimetype": "text/x-python",
   "name": "python",
   "nbconvert_exporter": "python",
   "pygments_lexer": "ipython3",
   "version": "3.7.4"
  }
 },
 "nbformat": 4,
 "nbformat_minor": 2
}
