{
 "cells": [
  {
   "cell_type": "code",
   "execution_count": 1,
   "metadata": {},
   "outputs": [],
   "source": [
    "#file handling\n",
    "#open(<filename><mode>)"
   ]
  },
  {
   "cell_type": "code",
   "execution_count": 2,
   "metadata": {},
   "outputs": [],
   "source": [
    "b=open(\"file1230.txt\",'x')\n",
    "b.close()"
   ]
  },
  {
   "cell_type": "code",
   "execution_count": 3,
   "metadata": {},
   "outputs": [
    {
     "name": "stdout",
     "output_type": "stream",
     "text": [
      "1.hello sworld\n",
      "2.hello sworld\n",
      "3.hello sworld\n",
      "4.hello sworld\n",
      "5.hello sworld\n",
      "6.hello sworld\n",
      "7.hello sworld\n"
     ]
    }
   ],
   "source": [
    "b=open(\"file1230.txt\",'r')\n",
    "print(b.read())\n",
    "b.close()"
   ]
  },
  {
   "cell_type": "code",
   "execution_count": 6,
   "metadata": {},
   "outputs": [
    {
     "name": "stdout",
     "output_type": "stream",
     "text": [
      "1.hello sworl\n"
     ]
    }
   ],
   "source": [
    "b=open(\"file1230.txt\",'r')\n",
    "print(b.read(13))\n",
    "b.close()"
   ]
  },
  {
   "cell_type": "code",
   "execution_count": 7,
   "metadata": {},
   "outputs": [
    {
     "name": "stdout",
     "output_type": "stream",
     "text": [
      "<class 'str'>\n"
     ]
    }
   ],
   "source": [
    "b=open(\"file1230.txt\",'r')\n",
    "print(type(b.read()))\n",
    "b.close()"
   ]
  },
  {
   "cell_type": "code",
   "execution_count": 12,
   "metadata": {},
   "outputs": [
    {
     "name": "stdout",
     "output_type": "stream",
     "text": [
      "1.hello sworld\n",
      "\n",
      "2.hello sworld\n",
      "\n",
      "3.hello sworld\n",
      "\n"
     ]
    }
   ],
   "source": [
    "b=open(\"file1230.txt\",'r')\n",
    "print(b.readline())\n",
    "print(b.readline())\n",
    "\n",
    "b.close()"
   ]
  },
  {
   "cell_type": "markdown",
   "metadata": {},
   "source": [
    "b=open(\"file1230.txt\",'a')\n",
    "b.write(\"7.WE are Pythian\")\n",
    "b.close()\n",
    "b=open(\"file1230.txt\",'r')\n",
    "print(b.read())"
   ]
  },
  {
   "cell_type": "code",
   "execution_count": 17,
   "metadata": {},
   "outputs": [
    {
     "name": "stdout",
     "output_type": "stream",
     "text": [
      "1.hello sworld\n",
      "2.hello sworld\n",
      "3.hello sworld\n",
      "4.hello sworld\n",
      "5.hello sworld\n",
      "6.hello sworld\n",
      "7.hello sworld7.Iam Puspa7.Iam Puspa  7.Iam Puspa\n"
     ]
    }
   ],
   "source": [
    "b=open(\"file1230.txt\",'a')\n",
    "b.write(\"  7.Iam Puspa\")\n",
    "b.close()\n",
    "b=open(\"file1230.txt\",'r')\n",
    "print(b.read())\n",
    "b.close()"
   ]
  },
  {
   "cell_type": "code",
   "execution_count": 24,
   "metadata": {},
   "outputs": [
    {
     "name": "stdout",
     "output_type": "stream",
     "text": [
      "\n"
     ]
    }
   ],
   "source": [
    "b=open(\"file1230.txt\",'r')\n",
    "c=b.read()\n",
    "d=c.replace(c,\"\")\n",
    "print(d)\n",
    "b.close()\n"
   ]
  },
  {
   "cell_type": "code",
   "execution_count": 27,
   "metadata": {},
   "outputs": [],
   "source": [
    "b=open(\"file1230.txt\",\"w\")\n",
    "b.write(d)\n",
    "b.close()"
   ]
  },
  {
   "cell_type": "code",
   "execution_count": 28,
   "metadata": {},
   "outputs": [],
   "source": [
    "#name age add phone from user\n"
   ]
  },
  {
   "cell_type": "code",
   "execution_count": 9,
   "metadata": {},
   "outputs": [
    {
     "ename": "SyntaxError",
     "evalue": "invalid syntax (<ipython-input-9-bc834234ff30>, line 11)",
     "output_type": "error",
     "traceback": [
      "\u001b[1;36m  File \u001b[1;32m\"<ipython-input-9-bc834234ff30>\"\u001b[1;36m, line \u001b[1;32m11\u001b[0m\n\u001b[1;33m    b.close()\u001b[0m\n\u001b[1;37m    ^\u001b[0m\n\u001b[1;31mSyntaxError\u001b[0m\u001b[1;31m:\u001b[0m invalid syntax\n"
     ]
    }
   ],
   "source": [
    "p=[]\n",
    "n=int(input(\"Enter value of n= \"))\n",
    "#b=open(\"file1230.txt\",'w')\n",
    "    \n",
    "for i in range(n):\n",
    "    b=open(\"file1230.txt\",'a')\n",
    "    b.write(name=input(\"Enter name= \"),\n",
    "            age=int(input(\"Enter age= \"),\n",
    "            phone_no=int(input(\"Enter phone number= \")),\n",
    "            add=input(\"Enter address= \"))\n",
    "    \n",
    "    b.close()\n"
   ]
  },
  {
   "cell_type": "code",
   "execution_count": 42,
   "metadata": {},
   "outputs": [
    {
     "name": "stdout",
     "output_type": "stream",
     "text": [
      "pppp\n"
     ]
    }
   ],
   "source": [
    "b=open(\"file1230.txt\",\"r\")\n",
    "print(b.read())"
   ]
  },
  {
   "cell_type": "code",
   "execution_count": 10,
   "metadata": {},
   "outputs": [
    {
     "name": "stdout",
     "output_type": "stream",
     "text": [
      "Enter value of n= 3\n",
      "Enter name= rahil\n",
      "Enter age= 85\n",
      "Enter phone number= 6547\n",
      "Enter address= bkt\n",
      "Enter name= sam\n",
      "Enter age= 52\n",
      "Enter phone number= 985\n",
      "Enter address= dsd\n",
      "Enter name= pus\n",
      "Enter age= 85\n",
      "Enter phone number= 254\n",
      "Enter address= dsf\n"
     ]
    }
   ],
   "source": [
    "b=open(\"new1230.txt\",'a')\n",
    "n=int(input(\"Enter value of n= \"))\n",
    "for i in range(n):\n",
    "    name=input(\"Enter name= \")\n",
    "    age=int(input(\"Enter age= \"))\n",
    "    phone=int(input(\"Enter phone number= \"))\n",
    "    add=input(\"Enter address= \")\n",
    "    info=f\"{name} {age} {phone} {add}\\n\"\n",
    "    b.write(info)\n",
    "b.close()\n"
   ]
  },
  {
   "cell_type": "code",
   "execution_count": 8,
   "metadata": {},
   "outputs": [
    {
     "name": "stdout",
     "output_type": "stream",
     "text": [
      "['ram 21 9875 ktm', 'raj 52 985 ltl', '']\n"
     ]
    }
   ],
   "source": [
    "b=open('new1230.txt','r')\n",
    "c=b.read()\n",
    "print(c.split('\\n'))\n",
    "b.close()"
   ]
  },
  {
   "cell_type": "code",
   "execution_count": 5,
   "metadata": {},
   "outputs": [
    {
     "name": "stdout",
     "output_type": "stream",
     "text": [
      "['ram 21 9875 ktm', 'raj 52 985 ltl', 'rahil 85 6547 bkt', 'sam 52 985 dsd', 'pus 85 254 dsf', '']\n",
      "[['ram', '21', '9875', 'ktm'], ['raj', '52', '985', 'ltl'], ['rahil', '85', '6547', 'bkt'], ['sam', '52', '985', 'dsd'], ['pus', '85', '254', 'dsf']]\n"
     ]
    }
   ],
   "source": [
    "infos=[]\n",
    "b=open('new1230.txt','r')\n",
    "c=b.read()\n",
    "d=c.split('\\n')\n",
    "print(d)\n",
    "for i in d:\n",
    "    #infos.append(i.split())\n",
    "    #or\n",
    "    info=i.split()\n",
    "    infos.append(info)\n",
    "b.close()\n",
    "print(infos[0:-1])"
   ]
  },
  {
   "cell_type": "code",
   "execution_count": 6,
   "metadata": {},
   "outputs": [
    {
     "name": "stdout",
     "output_type": "stream",
     "text": [
      "['Ram 50 ktm lalit', ' Sam 52 lalt sd']\n",
      "['Ram', '50', 'ktm', 'lalit']\n",
      "['Sam', '52', 'lalt', 'sd']\n"
     ]
    }
   ],
   "source": [
    "a=(\"Ram 50 ktm lalit, Sam 52 lalt sd\")\n",
    "b=a.split(',')\n",
    "print(b)\n",
    "x=b[0].split()\n",
    "y=b[1].split()\n",
    "print(x)\n",
    "print(y)\n",
    "info.append(x)\n",
    "info.append(y)\n",
    "\n"
   ]
  },
  {
   "cell_type": "code",
   "execution_count": 7,
   "metadata": {},
   "outputs": [],
   "source": [
    "#Create file to delete\n",
    "f=open(\"Del.txt\",'x')\n",
    "f.close()"
   ]
  },
  {
   "cell_type": "code",
   "execution_count": 8,
   "metadata": {},
   "outputs": [],
   "source": [
    "#Deleting file\n",
    "import os\n",
    "os.remove('Del.txt')"
   ]
  },
  {
   "cell_type": "code",
   "execution_count": 14,
   "metadata": {},
   "outputs": [
    {
     "name": "stdout",
     "output_type": "stream",
     "text": [
      "No file found\n"
     ]
    }
   ],
   "source": [
    "import os\n",
    "if (os.path.exists('Del.txt')):\n",
    "    os.remove('Del.txt')\n",
    "else:\n",
    "    print(\"No file found\")"
   ]
  },
  {
   "cell_type": "code",
   "execution_count": 15,
   "metadata": {},
   "outputs": [],
   "source": [
    "# #copy\n",
    "# import shutil\n",
    "# src='path/to.bpk.txt'\n",
    "# dst='path.txt'\n",
    "# shutil.copy(src,dest)\n"
   ]
  },
  {
   "cell_type": "code",
   "execution_count": 16,
   "metadata": {},
   "outputs": [
    {
     "data": {
      "text/plain": [
       "'Untitled Folder'"
      ]
     },
     "execution_count": 16,
     "metadata": {},
     "output_type": "execute_result"
    }
   ],
   "source": [
    "import shutil\n",
    "src='new1230.txt'\n",
    "dest='Untitled Folder'\n",
    "shutil.copy(src,dest)"
   ]
  },
  {
   "cell_type": "code",
   "execution_count": 24,
   "metadata": {},
   "outputs": [
    {
     "data": {
      "text/plain": [
       "'Untitled Folder 1\\\\Untitled Folder'"
      ]
     },
     "execution_count": 24,
     "metadata": {},
     "output_type": "execute_result"
    }
   ],
   "source": [
    "#copytree\n",
    "import shutil\n",
    "shutil.copy('Untitled Folder', 'Untitled Folder 1')"
   ]
  },
  {
   "cell_type": "code",
   "execution_count": 25,
   "metadata": {},
   "outputs": [
    {
     "data": {
      "text/plain": [
       "'Untitled Folder 5'"
      ]
     },
     "execution_count": 25,
     "metadata": {},
     "output_type": "execute_result"
    }
   ],
   "source": [
    "#copytree\n",
    "import shutil\n",
    "shutil.copytree('Untitled Folder 1', 'Untitled Folder 5')"
   ]
  },
  {
   "cell_type": "code",
   "execution_count": null,
   "metadata": {},
   "outputs": [],
   "source": [
    "#copy for file\n",
    "#copytree for folder\n",
    "\n"
   ]
  },
  {
   "cell_type": "code",
   "execution_count": 26,
   "metadata": {},
   "outputs": [],
   "source": [
    "import os\n",
    "os.rename('marks.txt','marksheet.txt')"
   ]
  },
  {
   "cell_type": "code",
   "execution_count": 27,
   "metadata": {},
   "outputs": [],
   "source": [
    "# import shutil\n",
    "# shutil.move('dir-1','backup/')"
   ]
  },
  {
   "cell_type": "code",
   "execution_count": 28,
   "metadata": {},
   "outputs": [
    {
     "name": "stdout",
     "output_type": "stream",
     "text": [
      "Enter value of n= 2\n",
      "Enter name= xrahul\n",
      "Enter age= 22\n",
      "Enter phone number= 984012\n",
      "Enter address= kit\n",
      "Enter name= aasus\n",
      "Enter age= 23\n",
      "Enter phone number= 9855\n",
      "Enter address= kym\n"
     ]
    }
   ],
   "source": [
    "b=open(\"new1230.csv\",'w')\n",
    "n=int(input(\"Enter value of n= \"))\n",
    "for i in range(n):\n",
    "    name=input(\"Enter name= \")\n",
    "    age=int(input(\"Enter age= \"))\n",
    "    phone=int(input(\"Enter phone number= \"))\n",
    "    add=input(\"Enter address= \")\n",
    "    info=f\"{name} {age} {phone} {add}\\n\"\n",
    "    b.write(info)\n",
    "b.close()\n"
   ]
  },
  {
   "cell_type": "code",
   "execution_count": null,
   "metadata": {},
   "outputs": [],
   "source": []
  }
 ],
 "metadata": {
  "kernelspec": {
   "display_name": "Python 3",
   "language": "python",
   "name": "python3"
  },
  "language_info": {
   "codemirror_mode": {
    "name": "ipython",
    "version": 3
   },
   "file_extension": ".py",
   "mimetype": "text/x-python",
   "name": "python",
   "nbconvert_exporter": "python",
   "pygments_lexer": "ipython3",
   "version": "3.7.4"
  }
 },
 "nbformat": 4,
 "nbformat_minor": 2
}
