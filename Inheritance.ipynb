{
 "cells": [
  {
   "cell_type": "code",
   "execution_count": 1,
   "metadata": {},
   "outputs": [
    {
     "name": "stdout",
     "output_type": "stream",
     "text": [
      "puspa ktm\n"
     ]
    }
   ],
   "source": [
    "class Profile:\n",
    "    def __init__(self, name, address):\n",
    "        self.name=name\n",
    "        self.address=address\n",
    "class hr(Profile):\n",
    "    def info(self):\n",
    "        print(self.name, self.address)\n",
    "x=hr('puspa','ktm')\n",
    "x.info()\n",
    "        "
   ]
  },
  {
   "cell_type": "code",
   "execution_count": 5,
   "metadata": {},
   "outputs": [
    {
     "name": "stdout",
     "output_type": "stream",
     "text": [
      "puspa ktm\n",
      "name and add is= puspa ktm\n",
      "puspa\n",
      "ktm\n"
     ]
    }
   ],
   "source": [
    "\n",
    "class Profile:\n",
    "    def __init__(self, name, address):\n",
    "        self.name=name\n",
    "        self.address=address\n",
    "    def view(self):\n",
    "        print(\"name and add is=\",self.name,self.address)\n",
    "        \n",
    "class hr(Profile):\n",
    "    def info(self):\n",
    "        print(self.name, self.address)\n",
    "x=hr('puspa','ktm')\n",
    "x.info()\n",
    "x.view()\n",
    "print(x.name) \n",
    "print(x.address)"
   ]
  },
  {
   "cell_type": "code",
   "execution_count": 6,
   "metadata": {},
   "outputs": [
    {
     "name": "stdout",
     "output_type": "stream",
     "text": [
      "this is init function ABC nepal\n",
      "hello i am ABC. and i am nepal years old\n",
      "ABC nepal\n"
     ]
    }
   ],
   "source": [
    "#multi level inheritance\n",
    "class A:\n",
    "    def __init__(self,name,age):\n",
    "        self.name=name\n",
    "        self.age=age\n",
    "        print(\"this is init function\",self.name,self.age)\n",
    "        \n",
    "class B(A):\n",
    "    def text(self):\n",
    "        print(f\"hello i am {self.name}. and i am {self.age} years old\")\n",
    "class C(B):\n",
    "    def last(self):\n",
    "        print(self.name,self.age)\n",
    "x=C(\"ABC\",'nepal')\n",
    "x.text()\n",
    "x.last()"
   ]
  },
  {
   "cell_type": "code",
   "execution_count": 11,
   "metadata": {},
   "outputs": [
    {
     "name": "stdout",
     "output_type": "stream",
     "text": [
      "this is init function ABC 22\n",
      "hello i am ABC. and i am 22 years old. from kathamandu.\n",
      "ABC 22 patan\n"
     ]
    }
   ],
   "source": [
    "#passing through function\n",
    "class A:\n",
    "    def __init__(self,name,age):\n",
    "        self.name=name\n",
    "        self.age=age\n",
    "        print(\"this is init function\",self.name,self.age)\n",
    "        \n",
    "class B(A):\n",
    "    def text(self,add1):\n",
    "        print(f\"hello i am {self.name}. and i am {self.age} years old. from {add1}.\")\n",
    "class C(B):\n",
    "    def last(self,add2):\n",
    "        print(self.name,self.age,add2)\n",
    "x=C(\"ABC\",'22')\n",
    "x.text('kathamandu')\n",
    "x.last('patan')"
   ]
  },
  {
   "cell_type": "code",
   "execution_count": 17,
   "metadata": {},
   "outputs": [
    {
     "name": "stdout",
     "output_type": "stream",
     "text": [
      "puspa 22 17\n",
      "puspa\n",
      "17\n"
     ]
    }
   ],
   "source": [
    "#multi level-- lessly used\n",
    "class Person:\n",
    "    #constructor\n",
    "    def __init__(self, personName, personAge):\n",
    "        self.name=personName\n",
    "        self.age=personAge\n",
    "    #defining class method\n",
    "    def showName(self):\n",
    "        print(self.name)\n",
    "    def showAge(self):\n",
    "        print(self.age)\n",
    "\n",
    "class Student:\n",
    "    def __init__(self,studentId):\n",
    "        self.Ids=studentId\n",
    "    def getId(self):\n",
    "        return self.Ids\n",
    "    \n",
    "class Resident(Person, Student):#extending both person and student class\n",
    "    def __init__(self, name, age, Ids):\n",
    "        Person.__init__(self, name, age)\n",
    "        Student.__init__(self, Ids)\n",
    "        \n",
    "        print(self.name,self.age,self.Ids)\n",
    "        #create obj of sub class\n",
    "resident1=Resident('puspa',22, 17)\n",
    "resident1.showName()\n",
    "print(resident1.getId())\n"
   ]
  },
  {
   "cell_type": "code",
   "execution_count": 19,
   "metadata": {},
   "outputs": [
    {
     "name": "stdout",
     "output_type": "stream",
     "text": [
      "puspa\n",
      "17\n",
      "puspa 22 17\n"
     ]
    }
   ],
   "source": [
    "class Person:\n",
    "    #constructor\n",
    "    def __init__(self, personName, personAge):\n",
    "        self.name=personName\n",
    "        self.age=personAge\n",
    "    #defining class method\n",
    "    def showName(self):\n",
    "        print(self.name)\n",
    "    def showAge(self):\n",
    "        print(self.age)\n",
    "\n",
    "class Student:\n",
    "    def __init__(self,studentId):\n",
    "        self.Ids=studentId\n",
    "    def getId(self):\n",
    "        return self.Ids\n",
    "    \n",
    "class Resident(Person, Student):#extending both person and student class\n",
    "    def __init__(self, name, age, Ids):\n",
    "        Person.__init__(self, name, age)\n",
    "        Student.__init__(self, Ids)\n",
    "    def res(self):\n",
    "        print(self.name,self.age,self.Ids)\n",
    "        #create obj of sub class\n",
    "resident1=Resident('puspa',22, 17)\n",
    "resident1.showName()\n",
    "print(resident1.getId())\n",
    "resident1.res()"
   ]
  },
  {
   "cell_type": "code",
   "execution_count": 3,
   "metadata": {},
   "outputs": [
    {
     "name": "stdout",
     "output_type": "stream",
     "text": [
      "hello i ampuspa. of 22 years old and from address=Patan\n",
      "puspa\n",
      "ktm\n"
     ]
    }
   ],
   "source": [
    "class Profile:\n",
    "    def __init__(self, name, age):\n",
    "        self.name=name\n",
    "        self.age=age\n",
    "    def show(self):\n",
    "        return \"address=Patan\"\n",
    "    def showAge(self):\n",
    "        return self.age\n",
    "class hr(Profile):\n",
    "    def __init__(self,name,age,address):\n",
    "        Profile.__init__(self,name,age)\n",
    "        self.address=address #initialize address as it is nt initialized in upper class\n",
    "    def display(self):\n",
    "       # print(f\"hello i am{self.name}. of {self.agr} years old and from {self.address}\")\n",
    "        print(f\"hello i am{self.name}. of {super().showAge()} years old and from {super().show()}\")\n",
    "#         a=super().show()\n",
    "#         print(a)\n",
    "x=hr('puspa',22,'ktm')\n",
    "x.display()\n",
    "print(x.name) \n",
    "print(x.address)"
   ]
  },
  {
   "cell_type": "code",
   "execution_count": 5,
   "metadata": {},
   "outputs": [
    {
     "name": "stdout",
     "output_type": "stream",
     "text": [
      "hi, i am Ram i am 22 and from ktm\n",
      "Ram\n",
      "22\n",
      "ktm\n"
     ]
    }
   ],
   "source": [
    "#protected single underscore _ in attribute\n",
    "\n",
    "class Info:\n",
    "    def __init__(self,name,age,add):\n",
    "        self._name=name\n",
    "        self._age=age\n",
    "        self.add=add\n",
    "    def infos(this):\n",
    "        print(f\"hi, i am {this._name} i am {this._age} and from {this.add}\")\n",
    "obj= Info(\"Ram\",22,\"ktm\")\n",
    "obj.infos()\n",
    "print(obj._name)\n",
    "print(obj._age)\n",
    "print(obj.add)"
   ]
  },
  {
   "cell_type": "code",
   "execution_count": 10,
   "metadata": {},
   "outputs": [
    {
     "name": "stdout",
     "output_type": "stream",
     "text": [
      "hi, i am Ram i am 22 and from ktm\n",
      "22\n",
      "ktm\n"
     ]
    }
   ],
   "source": [
    "#private\n",
    "class Info:\n",
    "    def __init__(self,name,age,add):\n",
    "        self.__name=name #privste\n",
    "        self._age=age#protected\n",
    "        self.add=add#public\n",
    "    \n",
    "    def infos(this):\n",
    "        print(f\"hi, i am {this.__name} i am {this._age} and from {this.add}\")\n",
    "obj= Info(\"Ram\",22,\"ktm\")\n",
    "obj.infos()\n",
    "#print(obj.__name) not accessible from outside\n",
    "print(obj._age)\n",
    "print(obj.add)"
   ]
  },
  {
   "cell_type": "code",
   "execution_count": 14,
   "metadata": {},
   "outputs": [
    {
     "name": "stdout",
     "output_type": "stream",
     "text": [
      "hi, i am Ram i am 22 and from ktm\n",
      "Ram\n",
      "22\n",
      "ktm\n"
     ]
    }
   ],
   "source": [
    "class Info:\n",
    "    def __init__(self,name,age,add):\n",
    "        self.__name=name #privste\n",
    "        self._age=age#protected\n",
    "        self.add=add#public\n",
    "    \n",
    "    def infos(this):\n",
    "        print(f\"hi, i am {this.__name} i am {this._age} and from {this.add}\")\n",
    "obj= Info(\"Ram\",22,\"ktm\")\n",
    "obj.infos()\n",
    "print(obj._Info__name)# not accessible so add _Info to make protected \n",
    "print(obj._age)\n",
    "print(obj.add)"
   ]
  },
  {
   "cell_type": "code",
   "execution_count": 13,
   "metadata": {},
   "outputs": [
    {
     "name": "stdout",
     "output_type": "stream",
     "text": [
      "volume is= 120\n"
     ]
    }
   ],
   "source": [
    "class Area:\n",
    "    def __init__(self,l,b):\n",
    "        self._l=l\n",
    "        self.__b=b\n",
    "    def area(self):\n",
    "        return self._l*self.__b\n",
    "class height:\n",
    "    def __init__(self,h):\n",
    "        self.h=h\n",
    "        \n",
    "    def height(self):\n",
    "        return self.h\n",
    "area1=Area(4,5)\n",
    "h=height(6)\n",
    "a=area1.area()\n",
    "b=h.height()\n",
    "v=a*b\n",
    "print(\"volume is=\",v)\n"
   ]
  },
  {
   "cell_type": "code",
   "execution_count": 20,
   "metadata": {},
   "outputs": [
    {
     "name": "stdout",
     "output_type": "stream",
     "text": [
      "hi i am puspa of 22 from ktm\n",
      "puspa ktm\n"
     ]
    }
   ],
   "source": [
    "class Profile:\n",
    "    def __init__(self, name, address):\n",
    "        self._name=name\n",
    "        self.__address=address\n",
    "    def view(self):\n",
    "        print(self._name,self.__address)\n",
    "        \n",
    "class hr(Profile):\n",
    "    def __init__(self,name,age,address):\n",
    "        Profile.__init__(self,name,address)\n",
    "        self.age=age\n",
    "    def info(self):\n",
    "        print(f\"hi i am {self._name} of {self.age} from {self._Profile__address}\")\n",
    "x=hr('puspa',22,'ktm')\n",
    "x.info()\n",
    "x.view()\n",
    "# print(x.name) \n",
    "# print(x.address)"
   ]
  },
  {
   "cell_type": "code",
   "execution_count": 23,
   "metadata": {},
   "outputs": [
    {
     "name": "stdout",
     "output_type": "stream",
     "text": [
      "hi i am puspa of 22 from ktm\n"
     ]
    },
    {
     "data": {
      "text/plain": [
       "'ktm'"
      ]
     },
     "execution_count": 23,
     "metadata": {},
     "output_type": "execute_result"
    }
   ],
   "source": [
    "class Profile:\n",
    "    def __init__(self, name, address):\n",
    "        self._name=name\n",
    "        self.__address=address\n",
    "    def view(self):\n",
    "        #print(self._name,self.__address)\n",
    "        return self.__address\n",
    "class hr(Profile):\n",
    "    def __init__(self,name,age,address):\n",
    "        Profile.__init__(self,name,address)\n",
    "        self.age=age\n",
    "    def info(self):\n",
    "        print(f\"hi i am {self._name} of {self.age} from {super().view()}\")\n",
    "x=hr('puspa',22,'ktm')\n",
    "x.info()\n",
    "x.view()"
   ]
  },
  {
   "cell_type": "code",
   "execution_count": 30,
   "metadata": {},
   "outputs": [
    {
     "name": "stdout",
     "output_type": "stream",
     "text": [
      "hi i am puspa of 22 from ktm\n",
      "puspa\n",
      "22\n"
     ]
    }
   ],
   "source": [
    "#making global to private variable\n",
    "class Profile:\n",
    "    def __init__(self, name, address):\n",
    "        self._name=name\n",
    "        self.__address=address\n",
    "    def view(self):\n",
    "        global address\n",
    "        address=self.__address\n",
    "        #print(self._name,self.__address)\n",
    "        return address\n",
    "class hr(Profile):\n",
    "    def __init__(self,name,age,address):\n",
    "        Profile.__init__(self,name,address)\n",
    "        self.age=age\n",
    "    def info(self):\n",
    "        print(f\"hi i am {self._name} of {self.age} from {super().view()}\")\n",
    "x=hr('puspa',22,'ktm')\n",
    "x.info()\n",
    "x.view()\n",
    "print(x._name)\n",
    "print(x.age)\n"
   ]
  },
  {
   "cell_type": "code",
   "execution_count": null,
   "metadata": {},
   "outputs": [],
   "source": []
  }
 ],
 "metadata": {
  "kernelspec": {
   "display_name": "Python 3",
   "language": "python",
   "name": "python3"
  },
  "language_info": {
   "codemirror_mode": {
    "name": "ipython",
    "version": 3
   },
   "file_extension": ".py",
   "mimetype": "text/x-python",
   "name": "python",
   "nbconvert_exporter": "python",
   "pygments_lexer": "ipython3",
   "version": "3.7.4"
  }
 },
 "nbformat": 4,
 "nbformat_minor": 2
}
