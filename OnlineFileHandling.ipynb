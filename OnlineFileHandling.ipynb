{
 "cells": [
  {
   "cell_type": "code",
   "execution_count": 3,
   "metadata": {},
   "outputs": [],
   "source": [
    "a=open(\"class330.txt\",'x')\n",
    "a.close()"
   ]
  },
  {
   "cell_type": "code",
   "execution_count": 9,
   "metadata": {},
   "outputs": [],
   "source": [
    "a=open(\"class330.txt\",'r')\n",
    "# a.write(\"hello world\")\n",
    "a.close()"
   ]
  },
  {
   "cell_type": "code",
   "execution_count": 1,
   "metadata": {},
   "outputs": [
    {
     "name": "stdout",
     "output_type": "stream",
     "text": [
      "pus 22 dolakha\n",
      "bud 28 botle\n",
      "sud 16 kir\n",
      "sus 19 kirtipur\n"
     ]
    }
   ],
   "source": [
    "b=open(\"class330.txt\",'r')\n",
    "print(b.read())\n",
    "b.close()"
   ]
  },
  {
   "cell_type": "code",
   "execution_count": 13,
   "metadata": {},
   "outputs": [
    {
     "name": "stdout",
     "output_type": "stream",
     "text": [
      "enter no of rows:2\n",
      "Entr name= pus\n",
      "Enter age= 22\n",
      "Enter address=ktm\n",
      "Entr name= hRI\n",
      "Enter age= 19\n",
      "Enter address=DOL\n"
     ]
    }
   ],
   "source": [
    "try:\n",
    "    b=open(\"class330.txt\",'w')\n",
    "    n=int(input(\"enter no of rows:\"))\n",
    "    for i in range(n):\n",
    "        name=input(\"Entr name= \")\n",
    "        age=input(\"Enter age= \")\n",
    "        add=input(\"Enter address=\")\n",
    "        info=f'{name} {age} {add}\\n'\n",
    "        a=b.write(info)\n",
    "    b.close()\n",
    "except:\n",
    "    print(\"some error occured\")"
   ]
  },
  {
   "cell_type": "code",
   "execution_count": 2,
   "metadata": {},
   "outputs": [
    {
     "name": "stdout",
     "output_type": "stream",
     "text": [
      "pus 22 dolakha\n",
      "bud 28 botle\n",
      "sud 16 kir\n",
      "sus 19 kirtipur\n"
     ]
    }
   ],
   "source": [
    "a=open('class330.txt','r')\n",
    "print(a.read())\n",
    "a.close()"
   ]
  },
  {
   "cell_type": "code",
   "execution_count": 3,
   "metadata": {},
   "outputs": [
    {
     "name": "stdout",
     "output_type": "stream",
     "text": [
      "pus 22 dolakha\n",
      "bud 28 botle\n",
      "sud 16 kir\n",
      "sus 19 kirtipur\n"
     ]
    }
   ],
   "source": [
    "a=open('class330.txt','r')\n",
    "x=0\n",
    "while x<2:\n",
    "    if x==1:\n",
    "        print(a.read())\n",
    "    x=x+1\n",
    "a.close()"
   ]
  },
  {
   "cell_type": "code",
   "execution_count": 4,
   "metadata": {},
   "outputs": [
    {
     "name": "stdout",
     "output_type": "stream",
     "text": [
      "pus 22 dolakha\n",
      "\n"
     ]
    }
   ],
   "source": [
    "a=open('class330.txt','r')\n",
    "x=0\n",
    "while x<=2:\n",
    "    if x==2:\n",
    "        print(a.readline()) #esko faida xaina\n",
    "    x=x+1\n",
    "a.close()"
   ]
  },
  {
   "cell_type": "code",
   "execution_count": 5,
   "metadata": {},
   "outputs": [
    {
     "name": "stdout",
     "output_type": "stream",
     "text": [
      "['pus 22 dolakha', 'bud 28 botle', 'sud 16 kir', 'sus 19 kirtipur']\n"
     ]
    }
   ],
   "source": [
    "a=open('class330.txt','r')\n",
    "b=a.read()\n",
    "c=b.split('\\n')\n",
    "print(c)\n",
    "a.close()"
   ]
  },
  {
   "cell_type": "code",
   "execution_count": 6,
   "metadata": {},
   "outputs": [
    {
     "name": "stdout",
     "output_type": "stream",
     "text": [
      "pus 22 dolakha\n"
     ]
    }
   ],
   "source": [
    "a=open('class330.txt','r')\n",
    "b=a.read()\n",
    "c=b.split('\\n')\n",
    "print(c[0])\n",
    "a.close()"
   ]
  },
  {
   "cell_type": "code",
   "execution_count": 7,
   "metadata": {},
   "outputs": [
    {
     "name": "stdout",
     "output_type": "stream",
     "text": [
      "['pus 22 dolakha', 'bud 28 botle', 'sud 16 kir']\n"
     ]
    }
   ],
   "source": [
    "a=open('class330.txt','r')\n",
    "b=a.read()\n",
    "c=b.split('\\n')\n",
    "print(c[0:-1])\n",
    "a.close()"
   ]
  },
  {
   "cell_type": "code",
   "execution_count": 8,
   "metadata": {},
   "outputs": [
    {
     "data": {
      "text/plain": [
       "['pus 22 dolakha', 'bud 28 botle', 'sud 16 kir', 'sus 19 kirtipur']"
      ]
     },
     "execution_count": 8,
     "metadata": {},
     "output_type": "execute_result"
    }
   ],
   "source": [
    "c"
   ]
  },
  {
   "cell_type": "code",
   "execution_count": 9,
   "metadata": {},
   "outputs": [
    {
     "name": "stdout",
     "output_type": "stream",
     "text": [
      "['pus', '22', 'dolakha']\n",
      "['bud', '28', 'botle']\n",
      "['sud', '16', 'kir']\n",
      "['sus', '19', 'kirtipur']\n"
     ]
    }
   ],
   "source": [
    "final_out=[]\n",
    "n=len(c)\n",
    "for i in range(n):\n",
    "    split_info=c[i].split()\n",
    "    #final_out.append(c[i].split('\\n'))\n",
    "    print(split_info)"
   ]
  },
  {
   "cell_type": "code",
   "execution_count": 27,
   "metadata": {},
   "outputs": [
    {
     "name": "stdout",
     "output_type": "stream",
     "text": [
      "[['pus', '22', 'dolakha'], ['bud', '28', 'botle'], ['sud', '16', 'kir'], ['sus', '19', 'kirtipur']]\n"
     ]
    }
   ],
   "source": [
    "final_out=[]\n",
    "n=len(c)\n",
    "for i in range(n):\n",
    "    final_out.append(c[i].split())\n",
    "print(final_out)"
   ]
  },
  {
   "cell_type": "code",
   "execution_count": 11,
   "metadata": {},
   "outputs": [
    {
     "name": "stdout",
     "output_type": "stream",
     "text": [
      "pus 22 dolakha\n"
     ]
    }
   ],
   "source": [
    "a=open('class330.txt','r')\n",
    "b=a.read()\n",
    "c=b.split('\\n')\n",
    "for i in range(4):\n",
    "    if '22' in c[i]:\n",
    "        print(c[i])\n",
    "a.close()"
   ]
  },
  {
   "cell_type": "code",
   "execution_count": 1,
   "metadata": {},
   "outputs": [
    {
     "name": "stdout",
     "output_type": "stream",
     "text": [
      "['sus', '19', 'kirtipur']\n"
     ]
    }
   ],
   "source": [
    "info=[['pus', '22', 'dolakha'], ['bud', '28', 'botle'], ['sud', '16', 'kir'], ['sus', '19', 'kirtipur']]\n",
    "a=open('class330.txt','r')\n",
    "len_list=len(info)\n",
    "for i in range(len_list):\n",
    "    if info[i][1]=='19':\n",
    "        print(info[i])\n"
   ]
  },
  {
   "cell_type": "code",
   "execution_count": 2,
   "metadata": {},
   "outputs": [
    {
     "name": "stdout",
     "output_type": "stream",
     "text": [
      "['pus', '22', 'dolakha']\n",
      "['bud', '28', 'botle']\n"
     ]
    }
   ],
   "source": [
    "info=[['pus', '22', 'dolakha'], ['bud', '28', 'botle'], ['sud', '16', 'kir'], ['sus', '19', 'kirtipur']]\n",
    "a=open('class330.txt','r')\n",
    "n=len(info)\n",
    "for i in range(n):\n",
    "    if int(info[i][1]) > int(19):\n",
    "        print(info[i])\n"
   ]
  },
  {
   "cell_type": "code",
   "execution_count": 3,
   "metadata": {},
   "outputs": [
    {
     "name": "stdout",
     "output_type": "stream",
     "text": [
      "['pus 22 dolakha', 'bud 28 botle ', 'sud 16 kir', 'sus 19 kirtipur']\n",
      "enter which name to update= sus\n",
      "entr replaced name=susma\n",
      "susma 19 kirtipur\n",
      "['pus 22 dolakha', 'bud 28 botle ', 'sud 16 kir', 'sus 19 kirtipur']\n"
     ]
    }
   ],
   "source": [
    "a=open('class330.txt','r')\n",
    "b=a.read()\n",
    "c=b.split('\\n')\n",
    "print(c)\n",
    "a.close()\n",
    "\n",
    "a=open('class330.txt','w')\n",
    "name=input(\"enter which name to update= \")\n",
    "replace=input(\"entr replaced name=\")\n",
    "for i in range(len(c)):\n",
    "    if name in c[i]:\n",
    "        x=c[i]\n",
    "        y=c[i].replace(name,replace)\n",
    "        print(y)\n",
    "        z=b.replace(x,y)\n",
    "    a.write(z)\n",
    "\n",
    "a.close()\n",
    "print(c)"
   ]
  },
  {
   "cell_type": "code",
   "execution_count": null,
   "metadata": {},
   "outputs": [],
   "source": []
  }
 ],
 "metadata": {
  "kernelspec": {
   "display_name": "Python 3",
   "language": "python",
   "name": "python3"
  },
  "language_info": {
   "codemirror_mode": {
    "name": "ipython",
    "version": 3
   },
   "file_extension": ".py",
   "mimetype": "text/x-python",
   "name": "python",
   "nbconvert_exporter": "python",
   "pygments_lexer": "ipython3",
   "version": "3.7.4"
  }
 },
 "nbformat": 4,
 "nbformat_minor": 2
}
