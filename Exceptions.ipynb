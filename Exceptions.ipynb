{
 "cells": [
  {
   "cell_type": "code",
   "execution_count": 1,
   "metadata": {},
   "outputs": [],
   "source": [
    "#try:'\n",
    "    #<operation>\n",
    "    \n",
    "#except:\n",
    " #   <operation>'"
   ]
  },
  {
   "cell_type": "code",
   "execution_count": 2,
   "metadata": {},
   "outputs": [
    {
     "name": "stdout",
     "output_type": "stream",
     "text": [
      "Enter name= ram\n",
      "Enter age=32\n",
      "Enter address= ktm\n",
      "ram 32 ktm\n"
     ]
    }
   ],
   "source": [
    "try:\n",
    "    name=input(\"Enter name= \")\n",
    "    age=input(\"Enter age=\")\n",
    "    add=input(\"Enter address= \")\n",
    "    print(name,age,add)\n",
    "except:\n",
    "    print(\"Error\")"
   ]
  },
  {
   "cell_type": "code",
   "execution_count": 4,
   "metadata": {},
   "outputs": [
    {
     "name": "stdout",
     "output_type": "stream",
     "text": [
      "Type Error\n"
     ]
    }
   ],
   "source": [
    "try:\n",
    "    a=10\n",
    "    b='0'\n",
    "    c=a/b\n",
    "    print(c)\n",
    "except ZeroDivisionError:\n",
    "    print(\"Zero division Error\")\n",
    "except TypeError:\n",
    "    print(\"Type Error\")"
   ]
  },
  {
   "cell_type": "code",
   "execution_count": 4,
   "metadata": {},
   "outputs": [
    {
     "ename": "ZeroDivisionError",
     "evalue": "division by zero",
     "output_type": "error",
     "traceback": [
      "\u001b[1;31m---------------------------------------------------------------------------\u001b[0m",
      "\u001b[1;31mZeroDivisionError\u001b[0m                         Traceback (most recent call last)",
      "\u001b[1;32m<ipython-input-4-e574edb36883>\u001b[0m in \u001b[0;36m<module>\u001b[1;34m\u001b[0m\n\u001b[1;32m----> 1\u001b[1;33m \u001b[1;36m10\u001b[0m\u001b[1;33m/\u001b[0m\u001b[1;36m0\u001b[0m\u001b[1;33m\u001b[0m\u001b[1;33m\u001b[0m\u001b[0m\n\u001b[0m",
      "\u001b[1;31mZeroDivisionError\u001b[0m: division by zero"
     ]
    }
   ],
   "source": [
    "10/0"
   ]
  },
  {
   "cell_type": "code",
   "execution_count": 1,
   "metadata": {},
   "outputs": [
    {
     "ename": "TypeError",
     "evalue": "unsupported operand type(s) for /: 'int' and 'str'",
     "output_type": "error",
     "traceback": [
      "\u001b[1;31m---------------------------------------------------------------------------\u001b[0m",
      "\u001b[1;31mTypeError\u001b[0m                                 Traceback (most recent call last)",
      "\u001b[1;32m<ipython-input-1-66cf002765e4>\u001b[0m in \u001b[0;36m<module>\u001b[1;34m\u001b[0m\n\u001b[1;32m----> 1\u001b[1;33m \u001b[1;36m10\u001b[0m\u001b[1;33m/\u001b[0m\u001b[1;34m'0'\u001b[0m\u001b[1;33m\u001b[0m\u001b[1;33m\u001b[0m\u001b[0m\n\u001b[0m",
      "\u001b[1;31mTypeError\u001b[0m: unsupported operand type(s) for /: 'int' and 'str'"
     ]
    }
   ],
   "source": [
    "10/'0'"
   ]
  },
  {
   "cell_type": "code",
   "execution_count": null,
   "metadata": {},
   "outputs": [
    {
     "name": "stdout",
     "output_type": "stream",
     "text": [
      "Enter a=10\n",
      "Enter b=0\n",
      "Type Error\n",
      "Enter a=0\n",
      "Enter b=10\n",
      "Type Error\n",
      "Enter a=10\n",
      "Enter b=o\n",
      "Type Error\n"
     ]
    }
   ],
   "source": [
    "def cal():\n",
    "    try:\n",
    "        a=input(\"Enter a=\")\n",
    "        b=input(\"Enter b=\")\n",
    "        c=a/b\n",
    "    except ZeroDivisionError:\n",
    "        print(\"Zero division Error\")\n",
    "    except TypeError:\n",
    "        print(\"Type Error\")\n",
    "    cal()\n",
    "cal()"
   ]
  },
  {
   "cell_type": "code",
   "execution_count": null,
   "metadata": {},
   "outputs": [
    {
     "name": "stdout",
     "output_type": "stream",
     "text": [
      "Enter a=10\n",
      "Enter b=sd\n",
      "value Error\n",
      "Enter a=10\n",
      "Enter b=0\n",
      "Zero division Error\n",
      "Enter a=10\n",
      "Enter b=o\n",
      "value Error\n"
     ]
    }
   ],
   "source": [
    "def cal():\n",
    "    try:\n",
    "        a=int(input(\"Enter a=\"))\n",
    "        b=int(input(\"Enter b=\"))\n",
    "        c=a/b\n",
    "    except ZeroDivisionError:\n",
    "        print(\"Zero division Error\")\n",
    "        cal()\n",
    "    except ValueError:\n",
    "        print(\"value Error\")\n",
    "    cal()\n",
    "cal()"
   ]
  },
  {
   "cell_type": "code",
   "execution_count": 4,
   "metadata": {},
   "outputs": [
    {
     "name": "stdout",
     "output_type": "stream",
     "text": [
      "Enter a=12\n",
      "Enter b=2\n",
      "6.0\n",
      "1\n"
     ]
    }
   ],
   "source": [
    "def cal(count):\n",
    "    try:\n",
    "        count=count+1\n",
    "        a=int(input(\"Enter a=\"))\n",
    "        b=int(input(\"Enter b=\"))\n",
    "        c=a/b\n",
    "        print(c)\n",
    "    except (ZeroDivisionError ,ValueError):\n",
    "        print(\" Error\")\n",
    "        cal(count)\n",
    "    finally:\n",
    "        print(count)\n",
    "count=0\n",
    "cal(count)"
   ]
  },
  {
   "cell_type": "code",
   "execution_count": 1,
   "metadata": {},
   "outputs": [
    {
     "name": "stdout",
     "output_type": "stream",
     "text": [
      "Enter a=4\n",
      "Enter b=0\n",
      "Zero division Error\n",
      "Enter a=20\n",
      "Enter b=2\n",
      "The value of c= 10.0\n"
     ]
    }
   ],
   "source": [
    "def cal():\n",
    "    try:\n",
    "        a=int(input(\"Enter a=\"))\n",
    "        b=int(input(\"Enter b=\"))\n",
    "        c=a/b\n",
    "    except ZeroDivisionError:\n",
    "        print(\"Zero division Error\")\n",
    "        cal()\n",
    "    except ValueError:\n",
    "        print(\"value Error\")\n",
    "        cal()\n",
    "    else:\n",
    "        print(\"The value of c=\",c)\n",
    "cal()"
   ]
  },
  {
   "cell_type": "code",
   "execution_count": 5,
   "metadata": {},
   "outputs": [
    {
     "name": "stdout",
     "output_type": "stream",
     "text": [
      "File not found\n"
     ]
    }
   ],
   "source": [
    "try:\n",
    "    a=open('asd.txt','r')\n",
    "except IOError:\n",
    "    print(\"File not found\")\n",
    "else:\n",
    "    print(\"File found\")\n",
    "    a.close()"
   ]
  },
  {
   "cell_type": "code",
   "execution_count": null,
   "metadata": {},
   "outputs": [],
   "source": []
  }
 ],
 "metadata": {
  "kernelspec": {
   "display_name": "Python 3",
   "language": "python",
   "name": "python3"
  },
  "language_info": {
   "codemirror_mode": {
    "name": "ipython",
    "version": 3
   },
   "file_extension": ".py",
   "mimetype": "text/x-python",
   "name": "python",
   "nbconvert_exporter": "python",
   "pygments_lexer": "ipython3",
   "version": "3.7.4"
  }
 },
 "nbformat": 4,
 "nbformat_minor": 2
}
