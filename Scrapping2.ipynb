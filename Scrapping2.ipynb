{
 "cells": [
  {
   "cell_type": "code",
   "execution_count": 14,
   "metadata": {},
   "outputs": [
    {
     "name": "stdout",
     "output_type": "stream",
     "text": [
      "Enter value of n= 2\n"
     ]
    },
    {
     "data": {
      "text/plain": [
       "[['NICL', '26', '34', '1000', '338', '338000.00'],\n",
       " ['FOWAD', '11', '47', '100', '1320', '132000.00'],\n",
       " ['NABIL', '43', '19', '36', '710', '25560.00'],\n",
       " ['KMCDB', '5', '34', '10', '706', '7060.00'],\n",
       " ['SRBL', '57', '44', '2000', '235', '470000.00'],\n",
       " ['SRBL', '57', '56', '771', '235', '181185.00'],\n",
       " ['SRBL', '57', '45', '1000', '235', '235000.00'],\n",
       " ['KMCDB', '5', '45', '10', '706', '7060.00'],\n",
       " ['FMDBL', '1', '7', '100', '423', '42300.00'],\n",
       " ['NICA', '39', '42', '286', '496', '141856.00'],\n",
       " ['FMDBL', '17', '22', '150', '426', '63900.00'],\n",
       " ['CZBIL', '16', '38', '20', '182', '3640.00'],\n",
       " ['SBL', '17', '3', '200', '291', '58200.00'],\n",
       " ['KBL', '8', '14', '1000', '182', '182000.00'],\n",
       " ['KBL', '43', '14', '100', '182', '18200.00'],\n",
       " ['SLICL', '45', '21', '95', '367', '34865.00'],\n",
       " ['BPCL', '45', '14', '300', '322', '96600.00'],\n",
       " ['BPCL', '45', '8', '200', '322', '64400.00'],\n",
       " ['ADBL', '57', '39', '100', '369', '36900.00'],\n",
       " ['ADBL', '57', '25', '1000', '370', '370000.00'],\n",
       " ['Contract No.\\xa0  |',\n",
       "  '',\n",
       "  '',\n",
       "  'Stock Symbol',\n",
       "  'ADBLAHPCAKBSLAKJCLAKPLALBSLALICLALICLPAMFIAMFIPOAPIAVUBARUNBBCBFCBFCPOBFLPOBHBLBHBLPOBNLBNTBOKD2079BOKLBOKLPOBPCLBSBLPOBSLBSMCBBLCBBLPOCBLCBLPOCCBLCCBLPOCEFLCEFLPOCFCLCFCLPOCFLCHCLCHLCHLBSCITCLBSLCMBCMBFLPCMF1CMF2CORBLCORBLPCZBILCZBILPDBBLDBBLPODDBLDDBLPODHPLEBLEBLCPEBLD2078EBLPOEDBLEDBLPOEICEICPOFBBLPOFHLFMDBLFMDBLPFOWADGBBLGBBLPOGBILD80/81GBIMEGBIMEPGBLBSGBLBSPGDBLGDBLPOGFCLGFCLPOGGBSLGHLGILBGILBPOGIMES1GLBSLGLICLGLICLPGMFBSGMFILGMFILPGRDBLGRDBLPGRUGUFLGUFLPOHAMROHAMROPHATHHATHPOHBLHBLPOHBTHDHPCHDLHFLHGIHGIPOHIDCLHPPLHURJAICFCICFCPOIGIIGIPOILBSILFCMPJBBLJBBLPOJBNLJBNLPOJEFLJEFLPOJFLJFLPOJOSHIJSLBBJSLBBPJSMKADBLKADBLPKBBLKBBLPOKBLKBLPOKEBLKEBLPOKKHCKMCDBKMCDBPKMFLKMFLPOKNBLKNBLPOKPCLKRBLKRBLPOKSBBLKSBBLPLBBLLBBLPOLBLLBLPOLEMFLFCLFCPOLGILLGILPOLICNLICNPOLLBSLLBSPOLVF1MBLMBLPOMDBMDBLPOMDBPOMEGAMEGAPOMEROMEROPOMFILMFILPOMHNLMLBBLMLBBLPMLBLMLBLPOMMFDBMMFDBPMNBBLMNBBLPMPFLMPFLPOMSLBMSMBSMSMBSPNABBCNABILNABILPNADEPNADEPPNAGRONBBNBBLNBBLPONBBPONBBUNBF2NBLNCCBNCCBPONCDBNCDBPONEFNFDNFSNFSPONGPLNHDLNHPCNIBNIBLPFNIBPONIBSF1NICANICAD 85/86NICAD8283NICAPNICBFNICD83/84NICGFNICLNICLPONIDCNIDCPONILNILPONKUNLBBLNLBBLPNLGNLGPONLICNLICLNLICLPNLICPNLONMBNMB50NMBD2085NMBHF1NMBMFNMBMFPNMBPONMFBSNMFBSPNNLBNNLBPONSEWANSEWAPNSMNSMPONTCNTLNUBLNUBLPONVGNWCODBLODBLPOOHLPBLD86PCBLPCBLPPDBLPOPFLPFLPOPICPICLPICLPOPICPOPLICPLICPOPMHPLPPCLPRFLPOPRINPRINPOPROFLPROFLPPRVUPRVUPOPSDBLPPURBLPURBLPRADHIRBCLRBCLPORHPCRHPLRJMRLFLRLFLPORMBFPORMDCRMDCPORRHPRSDCRSDCPSABSLSADBLSADBLPSAEFSAND2085SANIMASAPDBLSBBLJSBBLJPSBBLPOSBISBIPOSBLSBLD2082SBLD83SBLPOSBPPSCBSCBPOSDESISEFSEOSSFCSFCLSFCLPSFCPOSFFILSFFILPSFMFSHBLSHBLPOSHINESHINEPSHIVMSHLSHPCSICSICLSICLPOSICPOSIFCSIFCPOSIGS2SILSILPOSINDUSINDUPSJCLSKBBLSKBBLPSLBBLSLBBLPSLBSSLBSLSLICLSLICLPSMATASMATAPSMBSMBPOSMFBSSMFDBSMFDBPSPARSSPDLSRBLSRBLD83SRBLPOSRD80SRSSTCSWBBLSWBBLPSYFLSYFLPOTMDBLTMDBLPTRHTRHPRUFLUFLPOUICUICPOUMBUMBPOUMHLUNHPLUNLUPCLUPPERVLBSVLBSPOWDBLWDBLPOWOMIWOMIPOYHL  |',\n",
       "  '                ',\n",
       "  'Buyer\\xa0  |',\n",
       "  'Seller\\xa0  |',\n",
       "  'Total Rows',\n",
       "  '                    ',\n",
       "  '20',\n",
       "  '50',\n",
       "  '200',\n",
       "  '300',\n",
       "  '500',\n",
       "  ' |',\n",
       "  '                ',\n",
       "  '',\n",
       "  '',\n",
       "  '',\n",
       "  ''],\n",
       " ['Stock Symbol',\n",
       "  'Buyer Broker',\n",
       "  'Seller Broker',\n",
       "  'Quantity',\n",
       "  'Rate',\n",
       "  'Amount'],\n",
       " ['NICL', '26', '34', '1000', '338', '338000.00'],\n",
       " ['FOWAD', '11', '47', '100', '1320', '132000.00'],\n",
       " ['NABIL', '43', '19', '36', '710', '25560.00'],\n",
       " ['KMCDB', '5', '34', '10', '706', '7060.00'],\n",
       " ['SRBL', '57', '44', '2000', '235', '470000.00'],\n",
       " ['SRBL', '57', '56', '771', '235', '181185.00'],\n",
       " ['SRBL', '57', '45', '1000', '235', '235000.00'],\n",
       " ['KMCDB', '5', '45', '10', '706', '7060.00'],\n",
       " ['FMDBL', '1', '7', '100', '423', '42300.00'],\n",
       " ['NICA', '39', '42', '286', '496', '141856.00'],\n",
       " ['FMDBL', '17', '22', '150', '426', '63900.00'],\n",
       " ['CZBIL', '16', '38', '20', '182', '3640.00'],\n",
       " ['SBL', '17', '3', '200', '291', '58200.00'],\n",
       " ['KBL', '8', '14', '1000', '182', '182000.00'],\n",
       " ['KBL', '43', '14', '100', '182', '18200.00'],\n",
       " ['SLICL', '45', '21', '95', '367', '34865.00'],\n",
       " ['BPCL', '45', '14', '300', '322', '96600.00'],\n",
       " ['BPCL', '45', '8', '200', '322', '64400.00'],\n",
       " ['ADBL', '57', '39', '100', '369', '36900.00'],\n",
       " ['ADBL', '57', '25', '1000', '370', '370000.00']]"
      ]
     },
     "execution_count": 14,
     "metadata": {},
     "output_type": "execute_result"
    }
   ],
   "source": [
    "from bs4 import BeautifulSoup\n",
    "import requests \n",
    "n=int(input(\"Enter value of n= \"))\n",
    "y=[]\n",
    "for i in range(1,n+1):\n",
    "    url = BeautifulSoup(f\"http://www.nepalstock.com/main/floorsheet/index/{n}/\",'html.parser')\n",
    "    response=requests.get(url)\n",
    "    data=response.text\n",
    "    soup=BeautifulSoup(data,'lxml')\n",
    "    tags=soup.table\n",
    "    tag=tags.find_all('tr')\n",
    "    \n",
    "    x=[]\n",
    "    for t in tag:\n",
    "        x.append(t.get_text())\n",
    "    \n",
    "    for l in x:\n",
    "        list1=l.split('\\n')\n",
    "        list2=list1[3:len(list1)-1]\n",
    "        y.append(list2)\n",
    " \n",
    "    y=y[1:-3]\n",
    "y\n",
    "        \n"
   ]
  },
  {
   "cell_type": "code",
   "execution_count": 1,
   "metadata": {},
   "outputs": [
    {
     "name": "stdout",
     "output_type": "stream",
     "text": [
      "Enter page number= 1\n"
     ]
    },
    {
     "name": "stderr",
     "output_type": "stream",
     "text": [
      "C:\\Users\\Dell\\Anaconda3\\lib\\site-packages\\bs4\\__init__.py:357: UserWarning: \"http://www.nepalstock.com/main/floorsheet/index/1/\" looks like a URL. Beautiful Soup is not an HTTP client. You should probably use an HTTP client like requests to get the document behind the URL, and feed that document to Beautiful Soup.\n",
      "  ' that document to Beautiful Soup.' % decoded_markup\n"
     ]
    },
    {
     "data": {
      "text/plain": [
       "[['S.N.',\n",
       "  'Contract No',\n",
       "  'Stock Symbol',\n",
       "  'Buyer Broker',\n",
       "  'Seller Broker',\n",
       "  'Quantity',\n",
       "  'Rate',\n",
       "  'Amount'],\n",
       " ['1', '2020051301000206', 'ADBL', '16', '45', '100', '347', '34700.00'],\n",
       " ['2', '2020051301000207', 'NABIL', '50', '58', '30', '660', '19800.00'],\n",
       " ['3', '2020051301000208', 'SICL', '44', '22', '10', '804', '8040.00'],\n",
       " ['4', '2020051301000209', 'STC', '1', '50', '10', '2352', '23520.00'],\n",
       " ['5', '2020051301000210', 'SICL', '44', '32', '10', '796', '7960.00'],\n",
       " ['6', '2020051301000211', 'BOKL', '7', '41', '20', '206', '4120.00'],\n",
       " ['7', '2020051301000197', 'FMDBL', '44', '34', '10', '407', '4070.00'],\n",
       " ['8', '2020051301000198', 'RMDC', '25', '50', '10', '562', '5620.00'],\n",
       " ['9', '2020051301000199', 'SBI', '45', '34', '20', '404', '8080.00'],\n",
       " ['10', '2020051301000200', 'GILB', '44', '19', '10', '1050', '10500.00'],\n",
       " ['11', '2020051301000201', 'HIDCL', '59', '36', '20', '124', '2480.00'],\n",
       " ['12', '2020051301000202', 'NTC', '13', '58', '310', '587', '181970.00'],\n",
       " ['13', '2020051301000203', 'NTC', '13', '32', '190', '587', '111530.00'],\n",
       " ['14', '2020051301000204', 'FMDBL', '44', '39', '10', '403', '4030.00'],\n",
       " ['15', '2020051301000205', 'NABIL', '36', '58', '20', '660', '13200.00'],\n",
       " ['16', '2020051301000190', 'DDBL', '44', '57', '10', '744', '7440.00'],\n",
       " ['17', '2020051301000191', 'NADEP', '55', '34', '10', '518', '5180.00'],\n",
       " ['18', '2020051301000192', 'JSLBB', '54', '5', '10', '1423', '14230.00'],\n",
       " ['19', '2020051301000193', 'DDBL', '44', '25', '10', '737', '7370.00'],\n",
       " ['20', '2020051301000194', 'SCB', '28', '32', '50', '556', '27800.00']]"
      ]
     },
     "execution_count": 1,
     "metadata": {},
     "output_type": "execute_result"
    }
   ],
   "source": [
    "from bs4 import BeautifulSoup\n",
    "import requests \n",
    "n=int(input(\"Enter page number= \"))\n",
    "finaldata=[]\n",
    "for page in range(1,n+1):\n",
    "    url = BeautifulSoup(f'http://www.nepalstock.com/main/floorsheet/index/{page}/','html.parser')\n",
    "\n",
    "    response = requests.get(url)\n",
    "    data = response.text\n",
    "    soup = BeautifulSoup(data,'lxml')\n",
    "    #tags=soup.table #filtering tablee \n",
    "    tags = soup.table\n",
    "    tag=tags.get_text()\n",
    "    tag.split()\n",
    "    \n",
    "    tags = soup.table\n",
    "    tag=tags.find_all('tr',align = False) # remove align class\n",
    "    final_data=[]\n",
    "    tag=tag[0:-3]#tag 1 index dekhi matra chaida kheri \n",
    "    for x in tag:\n",
    "        final_data.append(x.get_text())\n",
    "    \n",
    "    \n",
    "    for i in range(len(final_data)):\n",
    "        finaldata.append(final_data[i][1:-1].split('\\n'))\n",
    "        #data.append(final_data[i].split('\\n'))\n",
    "        \n",
    "finaldata\n"
   ]
  },
  {
   "cell_type": "code",
   "execution_count": 31,
   "metadata": {},
   "outputs": [],
   "source": [
    "import csv\n",
    "list_len=len(finaldata)\n",
    "with open('stockmarkets.csv','a') as csvFile:\n",
    "    for i in range(list_len):\n",
    "        writer=csv.writer(csvFile)\n",
    "        writer.writerow(finaldata[i])"
   ]
  },
  {
   "cell_type": "code",
   "execution_count": 1,
   "metadata": {},
   "outputs": [
    {
     "data": {
      "text/html": [
       "<div>\n",
       "<style scoped>\n",
       "    .dataframe tbody tr th:only-of-type {\n",
       "        vertical-align: middle;\n",
       "    }\n",
       "\n",
       "    .dataframe tbody tr th {\n",
       "        vertical-align: top;\n",
       "    }\n",
       "\n",
       "    .dataframe thead th {\n",
       "        text-align: right;\n",
       "    }\n",
       "</style>\n",
       "<table border=\"1\" class=\"dataframe\">\n",
       "  <thead>\n",
       "    <tr style=\"text-align: right;\">\n",
       "      <th></th>\n",
       "      <th>1</th>\n",
       "      <th>2020031801010543</th>\n",
       "      <th>MEGA</th>\n",
       "      <th>26</th>\n",
       "      <th>14</th>\n",
       "      <th>200</th>\n",
       "      <th>202</th>\n",
       "      <th>40400.00</th>\n",
       "    </tr>\n",
       "  </thead>\n",
       "  <tbody>\n",
       "    <tr>\n",
       "      <td>0</td>\n",
       "      <td>2</td>\n",
       "      <td>2020031801010544</td>\n",
       "      <td>EBL</td>\n",
       "      <td>1</td>\n",
       "      <td>26</td>\n",
       "      <td>100</td>\n",
       "      <td>625</td>\n",
       "      <td>62500.0</td>\n",
       "    </tr>\n",
       "    <tr>\n",
       "      <td>1</td>\n",
       "      <td>3</td>\n",
       "      <td>2020031801010545</td>\n",
       "      <td>NMB</td>\n",
       "      <td>33</td>\n",
       "      <td>1</td>\n",
       "      <td>200</td>\n",
       "      <td>382</td>\n",
       "      <td>76400.0</td>\n",
       "    </tr>\n",
       "    <tr>\n",
       "      <td>2</td>\n",
       "      <td>4</td>\n",
       "      <td>2020031801010546</td>\n",
       "      <td>CCBL</td>\n",
       "      <td>43</td>\n",
       "      <td>26</td>\n",
       "      <td>82</td>\n",
       "      <td>160</td>\n",
       "      <td>13120.0</td>\n",
       "    </tr>\n",
       "    <tr>\n",
       "      <td>3</td>\n",
       "      <td>5</td>\n",
       "      <td>2020031801010547</td>\n",
       "      <td>NBB</td>\n",
       "      <td>45</td>\n",
       "      <td>56</td>\n",
       "      <td>217</td>\n",
       "      <td>197</td>\n",
       "      <td>42749.0</td>\n",
       "    </tr>\n",
       "    <tr>\n",
       "      <td>4</td>\n",
       "      <td>6</td>\n",
       "      <td>2020031801010548</td>\n",
       "      <td>NMBMF</td>\n",
       "      <td>41</td>\n",
       "      <td>54</td>\n",
       "      <td>100</td>\n",
       "      <td>734</td>\n",
       "      <td>73400.0</td>\n",
       "    </tr>\n",
       "    <tr>\n",
       "      <td>5</td>\n",
       "      <td>7</td>\n",
       "      <td>2020031801010549</td>\n",
       "      <td>NMBMF</td>\n",
       "      <td>41</td>\n",
       "      <td>58</td>\n",
       "      <td>216</td>\n",
       "      <td>738</td>\n",
       "      <td>159408.0</td>\n",
       "    </tr>\n",
       "    <tr>\n",
       "      <td>6</td>\n",
       "      <td>8</td>\n",
       "      <td>2020031801010550</td>\n",
       "      <td>KBL</td>\n",
       "      <td>49</td>\n",
       "      <td>3</td>\n",
       "      <td>500</td>\n",
       "      <td>184</td>\n",
       "      <td>92000.0</td>\n",
       "    </tr>\n",
       "    <tr>\n",
       "      <td>7</td>\n",
       "      <td>9</td>\n",
       "      <td>2020031801010551</td>\n",
       "      <td>HDL</td>\n",
       "      <td>11</td>\n",
       "      <td>17</td>\n",
       "      <td>20</td>\n",
       "      <td>1350</td>\n",
       "      <td>27000.0</td>\n",
       "    </tr>\n",
       "    <tr>\n",
       "      <td>8</td>\n",
       "      <td>10</td>\n",
       "      <td>2020031801010552</td>\n",
       "      <td>NICL</td>\n",
       "      <td>43</td>\n",
       "      <td>16</td>\n",
       "      <td>100</td>\n",
       "      <td>347</td>\n",
       "      <td>34700.0</td>\n",
       "    </tr>\n",
       "    <tr>\n",
       "      <td>9</td>\n",
       "      <td>11</td>\n",
       "      <td>2020031801010553</td>\n",
       "      <td>SBI</td>\n",
       "      <td>50</td>\n",
       "      <td>25</td>\n",
       "      <td>100</td>\n",
       "      <td>411</td>\n",
       "      <td>41100.0</td>\n",
       "    </tr>\n",
       "    <tr>\n",
       "      <td>10</td>\n",
       "      <td>12</td>\n",
       "      <td>2020031801010554</td>\n",
       "      <td>MEGA</td>\n",
       "      <td>58</td>\n",
       "      <td>14</td>\n",
       "      <td>825</td>\n",
       "      <td>202</td>\n",
       "      <td>166650.0</td>\n",
       "    </tr>\n",
       "    <tr>\n",
       "      <td>11</td>\n",
       "      <td>13</td>\n",
       "      <td>2020031801010555</td>\n",
       "      <td>EBL</td>\n",
       "      <td>14</td>\n",
       "      <td>26</td>\n",
       "      <td>132</td>\n",
       "      <td>625</td>\n",
       "      <td>82500.0</td>\n",
       "    </tr>\n",
       "    <tr>\n",
       "      <td>12</td>\n",
       "      <td>14</td>\n",
       "      <td>2020031801010556</td>\n",
       "      <td>PCBL</td>\n",
       "      <td>49</td>\n",
       "      <td>25</td>\n",
       "      <td>619</td>\n",
       "      <td>265</td>\n",
       "      <td>164035.0</td>\n",
       "    </tr>\n",
       "    <tr>\n",
       "      <td>13</td>\n",
       "      <td>15</td>\n",
       "      <td>2020031801010557</td>\n",
       "      <td>CIT</td>\n",
       "      <td>45</td>\n",
       "      <td>58</td>\n",
       "      <td>50</td>\n",
       "      <td>2475</td>\n",
       "      <td>123750.0</td>\n",
       "    </tr>\n",
       "    <tr>\n",
       "      <td>14</td>\n",
       "      <td>16</td>\n",
       "      <td>2020031801010558</td>\n",
       "      <td>SHINE</td>\n",
       "      <td>6</td>\n",
       "      <td>49</td>\n",
       "      <td>50</td>\n",
       "      <td>265</td>\n",
       "      <td>13250.0</td>\n",
       "    </tr>\n",
       "    <tr>\n",
       "      <td>15</td>\n",
       "      <td>17</td>\n",
       "      <td>2020031801010559</td>\n",
       "      <td>MERO</td>\n",
       "      <td>25</td>\n",
       "      <td>22</td>\n",
       "      <td>31</td>\n",
       "      <td>538</td>\n",
       "      <td>16678.0</td>\n",
       "    </tr>\n",
       "    <tr>\n",
       "      <td>16</td>\n",
       "      <td>18</td>\n",
       "      <td>2020031801010560</td>\n",
       "      <td>FOWAD</td>\n",
       "      <td>28</td>\n",
       "      <td>14</td>\n",
       "      <td>75</td>\n",
       "      <td>1350</td>\n",
       "      <td>101250.0</td>\n",
       "    </tr>\n",
       "    <tr>\n",
       "      <td>17</td>\n",
       "      <td>19</td>\n",
       "      <td>2020031801010561</td>\n",
       "      <td>LICN</td>\n",
       "      <td>50</td>\n",
       "      <td>17</td>\n",
       "      <td>100</td>\n",
       "      <td>1190</td>\n",
       "      <td>119000.0</td>\n",
       "    </tr>\n",
       "    <tr>\n",
       "      <td>18</td>\n",
       "      <td>20</td>\n",
       "      <td>2020031801010562</td>\n",
       "      <td>LICN</td>\n",
       "      <td>50</td>\n",
       "      <td>1</td>\n",
       "      <td>20</td>\n",
       "      <td>1202</td>\n",
       "      <td>24040.0</td>\n",
       "    </tr>\n",
       "    <tr>\n",
       "      <td>19</td>\n",
       "      <td>21</td>\n",
       "      <td>2020031801010563</td>\n",
       "      <td>LBL</td>\n",
       "      <td>42</td>\n",
       "      <td>26</td>\n",
       "      <td>10</td>\n",
       "      <td>209</td>\n",
       "      <td>2090.0</td>\n",
       "    </tr>\n",
       "  </tbody>\n",
       "</table>\n",
       "</div>"
      ],
      "text/plain": [
       "     1  2020031801010543   MEGA  26  14  200   202  40400.00\n",
       "0    2  2020031801010544    EBL   1  26  100   625   62500.0\n",
       "1    3  2020031801010545    NMB  33   1  200   382   76400.0\n",
       "2    4  2020031801010546   CCBL  43  26   82   160   13120.0\n",
       "3    5  2020031801010547    NBB  45  56  217   197   42749.0\n",
       "4    6  2020031801010548  NMBMF  41  54  100   734   73400.0\n",
       "5    7  2020031801010549  NMBMF  41  58  216   738  159408.0\n",
       "6    8  2020031801010550    KBL  49   3  500   184   92000.0\n",
       "7    9  2020031801010551    HDL  11  17   20  1350   27000.0\n",
       "8   10  2020031801010552   NICL  43  16  100   347   34700.0\n",
       "9   11  2020031801010553    SBI  50  25  100   411   41100.0\n",
       "10  12  2020031801010554   MEGA  58  14  825   202  166650.0\n",
       "11  13  2020031801010555    EBL  14  26  132   625   82500.0\n",
       "12  14  2020031801010556   PCBL  49  25  619   265  164035.0\n",
       "13  15  2020031801010557    CIT  45  58   50  2475  123750.0\n",
       "14  16  2020031801010558  SHINE   6  49   50   265   13250.0\n",
       "15  17  2020031801010559   MERO  25  22   31   538   16678.0\n",
       "16  18  2020031801010560  FOWAD  28  14   75  1350  101250.0\n",
       "17  19  2020031801010561   LICN  50  17  100  1190  119000.0\n",
       "18  20  2020031801010562   LICN  50   1   20  1202   24040.0\n",
       "19  21  2020031801010563    LBL  42  26   10   209    2090.0"
      ]
     },
     "execution_count": 1,
     "metadata": {},
     "output_type": "execute_result"
    }
   ],
   "source": [
    "import pandas as p\n",
    "obj=p.read_csv(\"stockmarkets.csv\",nrows=20)\n",
    "obj"
   ]
  },
  {
   "cell_type": "code",
   "execution_count": null,
   "metadata": {},
   "outputs": [],
   "source": []
  },
  {
   "cell_type": "code",
   "execution_count": 32,
   "metadata": {},
   "outputs": [],
   "source": [
    "#matplotlib for 2D graphics in python and also for graphic design\n",
    "\n",
    "#bar grapg, histogram, scatterPlot, AreaPlot, piePlot\n",
    "#from matplotlib import pyplot as plt\n"
   ]
  },
  {
   "cell_type": "code",
   "execution_count": 37,
   "metadata": {},
   "outputs": [
    {
     "data": {
      "image/png": "[encoded data removed]",
      "text/plain": [
       "<Figure size 432x288 with 1 Axes>"
      ]
     },
     "metadata": {
      "needs_background": "light"
     },
     "output_type": "display_data"
    }
   ],
   "source": [
    "from matplotlib import pyplot as plt\n",
    "#plottitng to our canvas\n",
    "plt.plot([1,2,3,5,4,7],[4,5,1,5,6,8])#(x,y)\n",
    "plt.show()"
   ]
  },
  {
   "cell_type": "code",
   "execution_count": 43,
   "metadata": {},
   "outputs": [
    {
     "data": {
      "image/png": "[encoded data removed]",
      "text/plain": [
       "<Figure size 432x288 with 1 Axes>"
      ]
     },
     "metadata": {
      "needs_background": "light"
     },
     "output_type": "display_data"
    }
   ],
   "source": [
    "from matplotlib import pyplot as plt\n",
    "plt.plot(['jan1','jan2','jan3','jan4','jan5','jan6','jan7','jan8','jan9','jan10'],[4,6,5,7,5,6,8,7,8,9])\n",
    "plt.plot([1,2,3,5,6,7,8,9,10],[4,5,1,5,6,8,5,4,7])#(x,y)\n",
    "plt.plot([2,5,1,7,7],[5,4,6,7,8])\n",
    "plt.show()"
   ]
  },
  {
   "cell_type": "code",
   "execution_count": 48,
   "metadata": {},
   "outputs": [
    {
     "data": {
      "image/png": "[encoded data removed]",
      "text/plain": [
       "<Figure size 432x288 with 1 Axes>"
      ]
     },
     "metadata": {
      "needs_background": "light"
     },
     "output_type": "display_data"
    }
   ],
   "source": [
    "from matplotlib import pyplot as plt\n",
    "date=['jan1','jan2','jan3','jan4','jan5','jan6','jan7','jan8','jan9','jan10']\n",
    "plt.plot(date,[4,5,1,2,6,3,7,2,6,9])#(x,y)\n",
    "plt.plot(date,[9,4,2,6,3,8,1,4,5,0])\n",
    "plt.title('Price vs Day')\n",
    "plt.ylabel('price')\n",
    "plt.xlabel('day')\n",
    "plt.show()"
   ]
  },
  {
   "cell_type": "code",
   "execution_count": 52,
   "metadata": {},
   "outputs": [
    {
     "data": {
      "image/png": "[encoded data removed]",
      "text/plain": [
       "<Figure size 432x288 with 1 Axes>"
      ]
     },
     "metadata": {
      "needs_background": "light"
     },
     "output_type": "display_data"
    }
   ],
   "source": [
    "from matplotlib import pyplot as plt\n",
    "x=[1,2,3,4,5]\n",
    "y=[12,16,6,4,1]\n",
    "y2=[6,15,7,6,8]\n",
    "\n",
    "plt.plot(x,y,'g',label='Nabil', linewidth=5)\n",
    "\n",
    "plt.plot(x,y2,'r',label='Global',linewidth=5)\n",
    "\n",
    "plt.title('Epic Info')\n",
    "\n",
    "plt.ylabel('Y axis')\n",
    "\n",
    "plt.xlabel('X axis')\n",
    "\n",
    "plt.legend()\n",
    "\n",
    "plt.grid(True,color='k')\n",
    "plt.show()"
   ]
  },
  {
   "cell_type": "code",
   "execution_count": 56,
   "metadata": {},
   "outputs": [
    {
     "data": {
      "image/png": "[encoded data removed]",
      "text/plain": [
       "<Figure size 432x288 with 1 Axes>"
      ]
     },
     "metadata": {
      "needs_background": "light"
     },
     "output_type": "display_data"
    }
   ],
   "source": [
    "import matplotlib.pyplot as plt\n",
    "\n",
    "population_age =[22,55,62,45,21,22,34,42,42,4,2,102,95,85,55,110,120,70,65,55,111,115,80,75,65,54,44,43,42,48,120,130]\n",
    "\n",
    "bins = [0,10,20,30,40,50,60,70,80,90,100,120,130]\n",
    "\n",
    "plt.hist(population_age, bins, histtype='bar', rwidth=0.8)#rwidth=row width \n",
    "\n",
    "plt.xlabel('age groups')\n",
    "\n",
    "plt.ylabel('Number of people')\n",
    "\n",
    "plt.title('Histogram')\n",
    "\n",
    "plt.show()"
   ]
  },
  {
   "cell_type": "code",
   "execution_count": 61,
   "metadata": {},
   "outputs": [
    {
     "data": {
      "image/png": "[encoded data removed]",
      "text/plain": [
       "<Figure size 432x288 with 1 Axes>"
      ]
     },
     "metadata": {
      "needs_background": "light"
     },
     "output_type": "display_data"
    }
   ],
   "source": [
    "from matplotlib import pyplot as plt\n",
    "\n",
    "plt.bar(['china','Italy','Iran','USA','India'],[3500,2500,150,30,20],width=.9)\n",
    "\n",
    "#plt.bar([.75,1.75,2.75,3.75,4.75],[80,20,20,50,60],label=\"Audi\", color='r',width=.5)\n",
    "\n",
    "#plt.legend()\n",
    "\n",
    "plt.xlabel('Country')\n",
    "\n",
    "plt.ylabel('Death')\n",
    "\n",
    "plt.title('Information')\n",
    "\n",
    "plt.show()"
   ]
  },
  {
   "cell_type": "code",
   "execution_count": 62,
   "metadata": {},
   "outputs": [
    {
     "data": {
      "image/png": "[encoded data removed]",
      "text/plain": [
       "<Figure size 432x288 with 1 Axes>"
      ]
     },
     "metadata": {
      "needs_background": "light"
     },
     "output_type": "display_data"
    }
   ],
   "source": [
    "from matplotlib import pyplot as plt\n",
    "\n",
    "plt.bar([0.25,1.25,2.25,3.25,4.25],[50,40,70,80,20],label=\"BMW\",width=.5)\n",
    "\n",
    "plt.bar([.75,1.75,2.75,3.75,4.75],[80,20,20,50,60],label=\"Audi\", color='r',width=.5)\n",
    "\n",
    "plt.legend()\n",
    "\n",
    "plt.xlabel('Country')\n",
    "\n",
    "plt.ylabel('Death (kms)')\n",
    "\n",
    "plt.title('Information')\n",
    "\n",
    "plt.show()"
   ]
  },
  {
   "cell_type": "code",
   "execution_count": 64,
   "metadata": {},
   "outputs": [
    {
     "data": {
      "image/png": "[encoded data removed]",
      "text/plain": [
       "<Figure size 432x288 with 1 Axes>"
      ]
     },
     "metadata": {
      "needs_background": "light"
     },
     "output_type": "display_data"
    }
   ],
   "source": [
    "from matplotlib import pyplot as plt\n",
    "\n",
    "plt.bar(['China','Italy','USA','Iran','India'],[50,40,70,80,20],\n",
    "\n",
    "label=\"safe\",width=.5)\n",
    "\n",
    "plt.bar([.75,1.75,2.75,3.75,4.75],[80,20,20,50,60],\n",
    "\n",
    "label=\"death\", color='r',width=.5)\n",
    "\n",
    "plt.legend()\n",
    "\n",
    "plt.xlabel('Country')\n",
    "\n",
    "plt.ylabel('Death (kms)')\n",
    "\n",
    "plt.title('Information')\n",
    "\n",
    "plt.show()"
   ]
  },
  {
   "cell_type": "code",
   "execution_count": 2,
   "metadata": {},
   "outputs": [
    {
     "name": "stdout",
     "output_type": "stream",
     "text": [
      "Enter value ofn=2\n"
     ]
    },
    {
     "ename": "FeatureNotFound",
     "evalue": "Couldn't find a tree builder with the features you requested: htmlparser. Do you need to install a parser library?",
     "output_type": "error",
     "traceback": [
      "\u001b[1;31m---------------------------------------------------------------------------\u001b[0m",
      "\u001b[1;31mFeatureNotFound\u001b[0m                           Traceback (most recent call last)",
      "\u001b[1;32m<ipython-input-2-67e00ee913a0>\u001b[0m in \u001b[0;36m<module>\u001b[1;34m\u001b[0m\n\u001b[0;32m      4\u001b[0m \u001b[0my\u001b[0m\u001b[1;33m=\u001b[0m\u001b[1;33m[\u001b[0m\u001b[1;33m]\u001b[0m\u001b[1;33m\u001b[0m\u001b[1;33m\u001b[0m\u001b[0m\n\u001b[0;32m      5\u001b[0m \u001b[1;32mfor\u001b[0m \u001b[0mi\u001b[0m \u001b[1;32min\u001b[0m \u001b[0mrange\u001b[0m\u001b[1;33m(\u001b[0m\u001b[1;36m1\u001b[0m\u001b[1;33m,\u001b[0m\u001b[0mn\u001b[0m\u001b[1;33m+\u001b[0m\u001b[1;36m1\u001b[0m\u001b[1;33m)\u001b[0m\u001b[1;33m:\u001b[0m\u001b[1;33m\u001b[0m\u001b[1;33m\u001b[0m\u001b[0m\n\u001b[1;32m----> 6\u001b[1;33m     \u001b[0murl\u001b[0m\u001b[1;33m=\u001b[0m\u001b[0mBeautifulSoup\u001b[0m\u001b[1;33m(\u001b[0m\u001b[1;34mf\"http://www.nepalstock.com/main/floorsheet/index/{n}/\"\u001b[0m\u001b[1;33m,\u001b[0m\u001b[1;34m\"htmlparser\"\u001b[0m\u001b[1;33m)\u001b[0m\u001b[1;33m\u001b[0m\u001b[1;33m\u001b[0m\u001b[0m\n\u001b[0m\u001b[0;32m      7\u001b[0m     \u001b[0mres\u001b[0m\u001b[1;33m=\u001b[0m\u001b[0mrequests\u001b[0m\u001b[1;33m.\u001b[0m\u001b[0mget\u001b[0m\u001b[1;33m(\u001b[0m\u001b[0murl\u001b[0m\u001b[1;33m)\u001b[0m\u001b[1;33m\u001b[0m\u001b[1;33m\u001b[0m\u001b[0m\n\u001b[0;32m      8\u001b[0m     \u001b[0mdata\u001b[0m\u001b[1;33m=\u001b[0m\u001b[0mres\u001b[0m\u001b[1;33m.\u001b[0m\u001b[0mtext\u001b[0m\u001b[1;33m\u001b[0m\u001b[1;33m\u001b[0m\u001b[0m\n",
      "\u001b[1;32m~\\Anaconda3\\lib\\site-packages\\bs4\\__init__.py\u001b[0m in \u001b[0;36m__init__\u001b[1;34m(self, markup, features, builder, parse_only, from_encoding, exclude_encodings, **kwargs)\u001b[0m\n\u001b[0;32m    206\u001b[0m                     \u001b[1;34m\"Couldn't find a tree builder with the features you \"\u001b[0m\u001b[1;33m\u001b[0m\u001b[1;33m\u001b[0m\u001b[0m\n\u001b[0;32m    207\u001b[0m                     \u001b[1;34m\"requested: %s. Do you need to install a parser library?\"\u001b[0m\u001b[1;33m\u001b[0m\u001b[1;33m\u001b[0m\u001b[0m\n\u001b[1;32m--> 208\u001b[1;33m                     % \",\".join(features))\n\u001b[0m\u001b[0;32m    209\u001b[0m \u001b[1;33m\u001b[0m\u001b[0m\n\u001b[0;32m    210\u001b[0m         \u001b[1;31m# At this point either we have a TreeBuilder instance in\u001b[0m\u001b[1;33m\u001b[0m\u001b[1;33m\u001b[0m\u001b[1;33m\u001b[0m\u001b[0m\n",
      "\u001b[1;31mFeatureNotFound\u001b[0m: Couldn't find a tree builder with the features you requested: htmlparser. Do you need to install a parser library?"
     ]
    }
   ],
   "source": [
    "from bs4 import BeautifulSoup\n",
    "import requests\n",
    "n=int(input(\"Enter value ofn=\"))\n",
    "y=[]\n",
    "for i in range(1,n+1):\n",
    "    url=BeautifulSoup(f\"http://www.nepalstock.com/main/floorsheet/index/{n}/\",\"htmlparser\")\n",
    "    res=requests.get(url)\n",
    "    data=res.text\n",
    "    soup=BeautifulSoup(data,'lxml')\n",
    "    tags=soup.table\n",
    "    tag=tags.find_all('tr')\n",
    "    y=[]\n",
    "    for t in tag:\n",
    "        y.append(t.get_text())\n",
    "    for z in t:\n",
    "        list1=z.split('\\n')\n",
    "        list2=list1[3:len(list1)-1]\n",
    "        y.append(list2)\n",
    "        y=y[1:-3]\n",
    "y\n"
   ]
  },
  {
   "cell_type": "code",
   "execution_count": null,
   "metadata": {},
   "outputs": [],
   "source": []
  }
 ],
 "metadata": {
  "kernelspec": {
   "display_name": "Python 3",
   "language": "python",
   "name": "python3"
  },
  "language_info": {
   "codemirror_mode": {
    "name": "ipython",
    "version": 3
   },
   "file_extension": ".py",
   "mimetype": "text/x-python",
   "name": "python",
   "nbconvert_exporter": "python",
   "pygments_lexer": "ipython3",
   "version": "3.7.4"
  }
 },
 "nbformat": 4,
 "nbformat_minor": 2
}
